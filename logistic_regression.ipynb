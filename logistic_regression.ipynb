{
 "cells": [
  {
   "cell_type": "code",
   "execution_count": 7,
   "metadata": {
    "collapsed": false
   },
   "outputs": [
    {
     "name": "stdout",
     "output_type": "stream",
     "text": [
      "Optimization terminated successfully.\n",
      "         Current function value: 0.319503\n",
      "         Iterations 8\n",
      "Amount.Requested     0.000174\n",
      "FICO.Score          -0.087423\n",
      "Intercept           60.125045\n",
      "dtype: float64\n",
      "\n",
      "p = 1.0\n"
     ]
    },
    {
     "data": {
      "text/plain": [
       "'Approved'"
      ]
     },
     "execution_count": 7,
     "metadata": {},
     "output_type": "execute_result"
    }
   ],
   "source": [
    "import pandas as pd\n",
    "import statsmodels.api as sm\n",
    "import math\n",
    "\n",
    "\n",
    "loansData_clean = pd.read_csv('loansData_clean.csv')\n",
    "\n",
    "b = lambda x: 1 if x >= 0.12 else 0\n",
    "loansData_clean['IR_TF'] = loansData_clean['Interest.Rate'].map(b)\n",
    "loansData_clean['Intercept'] = 1\n",
    "\n",
    "ind_vars = ['Amount.Requested', 'FICO.Score', 'Intercept']\n",
    "\n",
    "logit = sm.Logit(loansData_clean['IR_TF'], loansData_clean[ind_vars])\n",
    "\n",
    "result = logit.fit()\n",
    "\n",
    "coeff = result.params\n",
    "\n",
    "print coeff\n",
    "print \n",
    "\n",
    "def logistic_function(x, y, z):\n",
    "    p = (1/(1 + math.e**(1 + x[1]*y + x[0]*z)))\n",
    "    print 'p = {}'.format(p)\n",
    "    if p >= 0.7:\n",
    "        return 'Approved'\n",
    "    else:\n",
    "        return 'Denied'\n",
    "\n",
    "logistic_function(coeff, 720, 10000)"
   ]
  }
 ],
 "metadata": {
  "kernelspec": {
   "display_name": "Python 2",
   "language": "python",
   "name": "python2"
  },
  "language_info": {
   "codemirror_mode": {
    "name": "ipython",
    "version": 2
   },
   "file_extension": ".py",
   "mimetype": "text/x-python",
   "name": "python",
   "nbconvert_exporter": "python",
   "pygments_lexer": "ipython2",
   "version": "2.7.10"
  }
 },
 "nbformat": 4,
 "nbformat_minor": 0
}
