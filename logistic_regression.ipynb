{
 "cells": [
  {
   "cell_type": "code",
   "execution_count": 43,
   "metadata": {
    "collapsed": false
   },
   "outputs": [
    {
     "name": "stdout",
     "output_type": "stream",
     "text": [
      "Optimization terminated successfully.\n",
      "         Current function value: 0.319503\n",
      "         Iterations 8\n",
      "amount_requested     0.000174\n",
      "fico_score          -0.087423\n",
      "Intercept           60.125045\n",
      "dtype: float64\n",
      "p = 0.746378588952\n",
      "Approved\n"
     ]
    }
   ],
   "source": [
    "%matplotlib inline\n",
    "import pandas as pd\n",
    "import statsmodels.formula.api as smf\n",
    "import math\n",
    "import numpy as np\n",
    "import matplotlib.pyplot as plt\n",
    "\n",
    "\n",
    "loansData_clean = pd.read_csv('loansData_clean.csv')\n",
    "\n",
    "b = lambda x: 1 if x >= 0.12 else 0\n",
    "loansData_clean['IR_TF'] = loansData_clean['Interest.Rate'].map(b)\n",
    "loansData_clean['Intercept'] = 1\n",
    "\n",
    "ind_vars = ['amount_requested', 'fico_score', 'Intercept']\n",
    "\n",
    "logit = sm.Logit(loansData_clean['IR_TF'], loansData_clean[ind_vars])\n",
    "\n",
    "result = logit.fit()\n",
    "\n",
    "coeff = result.params\n",
    "\n",
    "print coeff\n",
    "\n",
    "\n",
    "def logistic_function(x, y, z):\n",
    "    p = (1/(1 + math.e**(x[2] + x[1]*y + x[0]*z)))\n",
    "    print 'p = {}'.format(p)\n",
    "    if p >= 0.7:\n",
    "        print 'Approved'\n",
    "    else:\n",
    "        print 'Denied'\n",
    "\n",
    "logistic_function(coeff, 720, 10000)"
   ]
  },
  {
   "cell_type": "code",
   "execution_count": 44,
   "metadata": {
    "collapsed": false
   },
   "outputs": [
    {
     "data": {
      "text/html": [
       "<div>\n",
       "<table border=\"1\" class=\"dataframe\">\n",
       "  <thead>\n",
       "    <tr style=\"text-align: right;\">\n",
       "      <th></th>\n",
       "      <th>IR_TF</th>\n",
       "      <th>Interest.Rate</th>\n",
       "      <th>amount_requested</th>\n",
       "      <th>fico_score</th>\n",
       "    </tr>\n",
       "  </thead>\n",
       "  <tbody>\n",
       "    <tr>\n",
       "      <th>0</th>\n",
       "      <td>0</td>\n",
       "      <td>0.0890</td>\n",
       "      <td>20000</td>\n",
       "      <td>735</td>\n",
       "    </tr>\n",
       "    <tr>\n",
       "      <th>1</th>\n",
       "      <td>1</td>\n",
       "      <td>0.1212</td>\n",
       "      <td>19200</td>\n",
       "      <td>715</td>\n",
       "    </tr>\n",
       "    <tr>\n",
       "      <th>2</th>\n",
       "      <td>1</td>\n",
       "      <td>0.2198</td>\n",
       "      <td>35000</td>\n",
       "      <td>690</td>\n",
       "    </tr>\n",
       "    <tr>\n",
       "      <th>3</th>\n",
       "      <td>0</td>\n",
       "      <td>0.0999</td>\n",
       "      <td>10000</td>\n",
       "      <td>695</td>\n",
       "    </tr>\n",
       "    <tr>\n",
       "      <th>4</th>\n",
       "      <td>0</td>\n",
       "      <td>0.1171</td>\n",
       "      <td>12000</td>\n",
       "      <td>695</td>\n",
       "    </tr>\n",
       "  </tbody>\n",
       "</table>\n",
       "</div>"
      ],
      "text/plain": [
       "   IR_TF  Interest.Rate  amount_requested  fico_score\n",
       "0      0         0.0890             20000         735\n",
       "1      1         0.1212             19200         715\n",
       "2      1         0.2198             35000         690\n",
       "3      0         0.0999             10000         695\n",
       "4      0         0.1171             12000         695"
      ]
     },
     "execution_count": 44,
     "metadata": {},
     "output_type": "execute_result"
    }
   ],
   "source": [
    "cols = ['IR_TF','Interest.Rate','amount_requested','fico_score']\n",
    "loansData_clean[cols].head()"
   ]
  },
  {
   "cell_type": "code",
   "execution_count": 45,
   "metadata": {
    "collapsed": false,
    "scrolled": true
   },
   "outputs": [
    {
     "data": {
      "text/plain": [
       "<matplotlib.axes._subplots.AxesSubplot at 0x195db588>"
      ]
     },
     "execution_count": 45,
     "metadata": {},
     "output_type": "execute_result"
    },
    {
     "data": {
      "image/png": "[encoded data removed]",
      "text/plain": [
       "<matplotlib.figure.Figure at 0x19f987b8>"
      ]
     },
     "metadata": {},
     "output_type": "display_data"
    }
   ],
   "source": [
    "loansData_clean.plot(kind='scatter',x='fico_score', y='IR_TF')"
   ]
  },
  {
   "cell_type": "code",
   "execution_count": 46,
   "metadata": {
    "collapsed": false
   },
   "outputs": [
    {
     "name": "stdout",
     "output_type": "stream",
     "text": [
      "Optimization terminated successfully.\n",
      "         Current function value: 0.319503\n",
      "         Iterations 8\n"
     ]
    },
    {
     "data": {
      "text/plain": [
       "<matplotlib.collections.PathCollection at 0x194f54a8>"
      ]
     },
     "execution_count": 46,
     "metadata": {},
     "output_type": "execute_result"
    },
    {
     "data": {
      "image/png": "[encoded data removed]",
      "text/plain": [
       "<matplotlib.figure.Figure at 0x19c70a20>"
      ]
     },
     "metadata": {},
     "output_type": "display_data"
    }
   ],
   "source": [
    "n_samples = 100\n",
    "new_observation = pd.DataFrame({'amount_requested': [10000] * n_samples,\n",
    "                                'fico_score': np.linspace(550, 950, n_samples)})\n",
    "\n",
    "model = smf.logit('IR_TF ~ fico_score + amount_requested', loansData_clean).fit()\n",
    "probabilities = model.predict(new_observation)\n",
    "decisions = (probabilities > 0.5).astype(int)\n",
    "plt.plot(new_observation.fico_score, probabilities)\n",
    "plt.scatter(new_observation.fico_score, decisions)"
   ]
  }
 ],
 "metadata": {
  "kernelspec": {
   "display_name": "Python 2",
   "language": "python",
   "name": "python2"
  },
  "language_info": {
   "codemirror_mode": {
    "name": "ipython",
    "version": 2
   },
   "file_extension": ".py",
   "mimetype": "text/x-python",
   "name": "python",
   "nbconvert_exporter": "python",
   "pygments_lexer": "ipython2",
   "version": "2.7.10"
  }
 },
 "nbformat": 4,
 "nbformat_minor": 0
}
