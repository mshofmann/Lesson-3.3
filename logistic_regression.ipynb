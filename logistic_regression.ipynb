{
 "cells": [
  {
   "cell_type": "code",
   "execution_count": 16,
   "metadata": {
    "collapsed": false
   },
   "outputs": [
    {
     "name": "stdout",
     "output_type": "stream",
     "text": [
      "Optimization terminated successfully.\n",
      "         Current function value: 0.319503\n",
      "         Iterations 8\n",
      "Amount.Requested     0.000174\n",
      "FICO.Score          -0.087423\n",
      "Intercept           60.125045\n",
      "dtype: float64\n",
      "\n",
      "p = 1.0\n"
     ]
    },
    {
     "data": {
      "text/plain": [
       "'Denied'"
      ]
     },
     "execution_count": 16,
     "metadata": {},
     "output_type": "execute_result"
    }
   ],
   "source": [
    "%matplotlib inline\n",
    "import pandas as pd\n",
    "import statsmodels.api as sm\n",
    "import math\n",
    "\n",
    "\n",
    "loansData_clean = pd.read_csv('loansData_clean.csv')\n",
    "\n",
    "b = lambda x: 1 if x >= 0.12 else 0\n",
    "loansData_clean['IR_TF'] = loansData_clean['Interest.Rate'].map(b)\n",
    "loansData_clean['Intercept'] = 1\n",
    "\n",
    "ind_vars = ['Amount.Requested', 'FICO.Score', 'Intercept']\n",
    "\n",
    "logit = sm.Logit(loansData_clean['IR_TF'], loansData_clean[ind_vars])\n",
    "\n",
    "result = logit.fit()\n",
    "\n",
    "coeff = result.params\n",
    "\n",
    "print coeff\n",
    "print \n",
    "\n",
    "def logistic_function(x, y, z):\n",
    "    p = (1/(1 + math.e**(1 + x[1]*y + x[0]*z)))\n",
    "    print 'p = {}'.format(p)\n",
    "    if p >= 0.7:\n",
    "        return 'Denied'\n",
    "    else:\n",
    "        return 'Approved'\n",
    "\n",
    "logistic_function(coeff, 720, 10000)"
   ]
  },
  {
   "cell_type": "code",
   "execution_count": 7,
   "metadata": {
    "collapsed": false
   },
   "outputs": [
    {
     "data": {
      "text/html": [
       "<div>\n",
       "<table border=\"1\" class=\"dataframe\">\n",
       "  <thead>\n",
       "    <tr style=\"text-align: right;\">\n",
       "      <th></th>\n",
       "      <th>IR_TF</th>\n",
       "      <th>Interest.Rate</th>\n",
       "      <th>Amount.Requested</th>\n",
       "      <th>FICO.Score</th>\n",
       "    </tr>\n",
       "  </thead>\n",
       "  <tbody>\n",
       "    <tr>\n",
       "      <th>0</th>\n",
       "      <td>0</td>\n",
       "      <td>0.0890</td>\n",
       "      <td>20000</td>\n",
       "      <td>735</td>\n",
       "    </tr>\n",
       "    <tr>\n",
       "      <th>1</th>\n",
       "      <td>1</td>\n",
       "      <td>0.1212</td>\n",
       "      <td>19200</td>\n",
       "      <td>715</td>\n",
       "    </tr>\n",
       "    <tr>\n",
       "      <th>2</th>\n",
       "      <td>1</td>\n",
       "      <td>0.2198</td>\n",
       "      <td>35000</td>\n",
       "      <td>690</td>\n",
       "    </tr>\n",
       "    <tr>\n",
       "      <th>3</th>\n",
       "      <td>0</td>\n",
       "      <td>0.0999</td>\n",
       "      <td>10000</td>\n",
       "      <td>695</td>\n",
       "    </tr>\n",
       "    <tr>\n",
       "      <th>4</th>\n",
       "      <td>0</td>\n",
       "      <td>0.1171</td>\n",
       "      <td>12000</td>\n",
       "      <td>695</td>\n",
       "    </tr>\n",
       "  </tbody>\n",
       "</table>\n",
       "</div>"
      ],
      "text/plain": [
       "   IR_TF  Interest.Rate  Amount.Requested  FICO.Score\n",
       "0      0         0.0890             20000         735\n",
       "1      1         0.1212             19200         715\n",
       "2      1         0.2198             35000         690\n",
       "3      0         0.0999             10000         695\n",
       "4      0         0.1171             12000         695"
      ]
     },
     "execution_count": 7,
     "metadata": {},
     "output_type": "execute_result"
    }
   ],
   "source": [
    "cols = ['IR_TF','Interest.Rate','Amount.Requested','FICO.Score']\n",
    "loansData_clean[cols].head()"
   ]
  },
  {
   "cell_type": "code",
   "execution_count": 10,
   "metadata": {
    "collapsed": false
   },
   "outputs": [
    {
     "data": {
      "text/plain": [
       "<matplotlib.axes._subplots.AxesSubplot at 0x19277898>"
      ]
     },
     "execution_count": 10,
     "metadata": {},
     "output_type": "execute_result"
    },
    {
     "data": {
      "image/png": "[encoded data removed]",
      "text/plain": [
       "<matplotlib.figure.Figure at 0x1937ef98>"
      ]
     },
     "metadata": {},
     "output_type": "display_data"
    }
   ],
   "source": [
    "loansData_clean.plot(kind='scatter',x='FICO.Score', y='IR_TF')"
   ]
  }
 ],
 "metadata": {
  "kernelspec": {
   "display_name": "Python 2",
   "language": "python",
   "name": "python2"
  },
  "language_info": {
   "codemirror_mode": {
    "name": "ipython",
    "version": 2
   },
   "file_extension": ".py",
   "mimetype": "text/x-python",
   "name": "python",
   "nbconvert_exporter": "python",
   "pygments_lexer": "ipython2",
   "version": "2.7.10"
  }
 },
 "nbformat": 4,
 "nbformat_minor": 0
}
