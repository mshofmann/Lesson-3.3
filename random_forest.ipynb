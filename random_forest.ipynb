{
 "cells": [
  {
   "cell_type": "markdown",
   "metadata": {},
   "source": [
    "# Decision Trees\n",
    "## Predicting a Person's Activity Based on Smartphone Data"
   ]
  },
  {
   "cell_type": "code",
   "execution_count": 1,
   "metadata": {
    "collapsed": false
   },
   "outputs": [],
   "source": [
    "import pandas as pd"
   ]
  },
  {
   "cell_type": "markdown",
   "metadata": {},
   "source": [
    "**Step 1:** Create initial training data table, filtered for 'Mag' and 'Angle' variables, and adding 'subject' and 'activity' columns:"
   ]
  },
  {
   "cell_type": "code",
   "execution_count": 2,
   "metadata": {
    "collapsed": false
   },
   "outputs": [],
   "source": [
    "features = [line.strip() for line in open('HAPT_Data_Set/features.txt','r')]\n",
    "sub_features = [(features.index(s), s) for s in features if ('Mag' in s) or ('Angle' in s)]\n",
    "sub_features_indices = [i[0] for i in sub_features]\n",
    "sub_features_names = [i[1] for i in sub_features]"
   ]
  },
  {
   "cell_type": "code",
   "execution_count": 3,
   "metadata": {
    "collapsed": false,
    "scrolled": true
   },
   "outputs": [
    {
     "data": {
      "text/html": [
       "<div>\n",
       "<table border=\"1\" class=\"dataframe\">\n",
       "  <thead>\n",
       "    <tr style=\"text-align: right;\">\n",
       "      <th></th>\n",
       "      <th>tBodyAccMag-Mean-1</th>\n",
       "      <th>tBodyAccMag-STD-1</th>\n",
       "      <th>tBodyAccMag-Mad-1</th>\n",
       "      <th>tBodyAccMag-Max-1</th>\n",
       "      <th>tBodyAccMag-Min-1</th>\n",
       "      <th>tBodyAccMag-SMA-1</th>\n",
       "      <th>tBodyAccMag-Energy-1</th>\n",
       "      <th>tBodyAccMag-IQR-1</th>\n",
       "      <th>tBodyAccMag-ropy-1</th>\n",
       "      <th>tBodyAccMag-ARCoeff-1</th>\n",
       "      <th>...</th>\n",
       "      <th>fBodyGyroJerkMag-MeanFreq-1</th>\n",
       "      <th>fBodyGyroJerkMag-Skewness-1</th>\n",
       "      <th>fBodyGyroJerkMag-Kurtosis-1</th>\n",
       "      <th>tBodyAcc-AngleWRTGravity-1</th>\n",
       "      <th>tBodyAccJerk-AngleWRTGravity-1</th>\n",
       "      <th>tBodyGyro-AngleWRTGravity-1</th>\n",
       "      <th>tBodyGyroJerk-AngleWRTGravity-1</th>\n",
       "      <th>tXAxisAcc-AngleWRTGravity-1</th>\n",
       "      <th>tYAxisAcc-AngleWRTGravity-1</th>\n",
       "      <th>tZAxisAcc-AngleWRTGravity-1</th>\n",
       "    </tr>\n",
       "  </thead>\n",
       "  <tbody>\n",
       "    <tr>\n",
       "      <th>0</th>\n",
       "      <td>-0.969546</td>\n",
       "      <td>-0.961540</td>\n",
       "      <td>-0.967646</td>\n",
       "      <td>-0.947236</td>\n",
       "      <td>-0.994174</td>\n",
       "      <td>-0.969546</td>\n",
       "      <td>-0.999150</td>\n",
       "      <td>-0.970525</td>\n",
       "      <td>-0.219620</td>\n",
       "      <td>-0.124072</td>\n",
       "      <td>...</td>\n",
       "      <td>-0.012236</td>\n",
       "      <td>-0.314848</td>\n",
       "      <td>-0.713308</td>\n",
       "      <td>-0.112754</td>\n",
       "      <td>0.030400</td>\n",
       "      <td>-0.464761</td>\n",
       "      <td>-0.018446</td>\n",
       "      <td>-0.841559</td>\n",
       "      <td>0.179913</td>\n",
       "      <td>-0.051718</td>\n",
       "    </tr>\n",
       "    <tr>\n",
       "      <th>1</th>\n",
       "      <td>-0.984484</td>\n",
       "      <td>-0.981042</td>\n",
       "      <td>-0.983105</td>\n",
       "      <td>-0.979658</td>\n",
       "      <td>-0.996348</td>\n",
       "      <td>-0.984484</td>\n",
       "      <td>-0.999709</td>\n",
       "      <td>-0.986893</td>\n",
       "      <td>-0.426713</td>\n",
       "      <td>0.129618</td>\n",
       "      <td>...</td>\n",
       "      <td>0.202804</td>\n",
       "      <td>-0.603199</td>\n",
       "      <td>-0.860677</td>\n",
       "      <td>0.053477</td>\n",
       "      <td>-0.007435</td>\n",
       "      <td>-0.732626</td>\n",
       "      <td>0.703511</td>\n",
       "      <td>-0.845092</td>\n",
       "      <td>0.180261</td>\n",
       "      <td>-0.047436</td>\n",
       "    </tr>\n",
       "    <tr>\n",
       "      <th>2</th>\n",
       "      <td>-0.987805</td>\n",
       "      <td>-0.990189</td>\n",
       "      <td>-0.990798</td>\n",
       "      <td>-0.987446</td>\n",
       "      <td>-0.996348</td>\n",
       "      <td>-0.987805</td>\n",
       "      <td>-0.999818</td>\n",
       "      <td>-0.990025</td>\n",
       "      <td>-0.583114</td>\n",
       "      <td>0.086279</td>\n",
       "      <td>...</td>\n",
       "      <td>0.440079</td>\n",
       "      <td>-0.404427</td>\n",
       "      <td>-0.761847</td>\n",
       "      <td>-0.118559</td>\n",
       "      <td>0.177899</td>\n",
       "      <td>0.100699</td>\n",
       "      <td>0.808529</td>\n",
       "      <td>-0.849230</td>\n",
       "      <td>0.180610</td>\n",
       "      <td>-0.042271</td>\n",
       "    </tr>\n",
       "    <tr>\n",
       "      <th>3</th>\n",
       "      <td>-0.989940</td>\n",
       "      <td>-0.988966</td>\n",
       "      <td>-0.989351</td>\n",
       "      <td>-0.987446</td>\n",
       "      <td>-0.997687</td>\n",
       "      <td>-0.989940</td>\n",
       "      <td>-0.999849</td>\n",
       "      <td>-0.988460</td>\n",
       "      <td>-0.572296</td>\n",
       "      <td>-0.044082</td>\n",
       "      <td>...</td>\n",
       "      <td>0.430891</td>\n",
       "      <td>-0.138373</td>\n",
       "      <td>-0.491604</td>\n",
       "      <td>-0.036788</td>\n",
       "      <td>-0.012892</td>\n",
       "      <td>0.640011</td>\n",
       "      <td>-0.485366</td>\n",
       "      <td>-0.848947</td>\n",
       "      <td>0.181907</td>\n",
       "      <td>-0.040826</td>\n",
       "    </tr>\n",
       "    <tr>\n",
       "      <th>4</th>\n",
       "      <td>-0.994669</td>\n",
       "      <td>-0.992678</td>\n",
       "      <td>-0.992968</td>\n",
       "      <td>-0.991914</td>\n",
       "      <td>-0.997687</td>\n",
       "      <td>-0.994669</td>\n",
       "      <td>-0.999929</td>\n",
       "      <td>-0.992688</td>\n",
       "      <td>-0.686673</td>\n",
       "      <td>0.228080</td>\n",
       "      <td>...</td>\n",
       "      <td>0.137735</td>\n",
       "      <td>-0.366214</td>\n",
       "      <td>-0.702490</td>\n",
       "      <td>0.123320</td>\n",
       "      <td>0.122542</td>\n",
       "      <td>0.693578</td>\n",
       "      <td>-0.615971</td>\n",
       "      <td>-0.848164</td>\n",
       "      <td>0.185124</td>\n",
       "      <td>-0.037080</td>\n",
       "    </tr>\n",
       "  </tbody>\n",
       "</table>\n",
       "<p>5 rows × 124 columns</p>\n",
       "</div>"
      ],
      "text/plain": [
       "   tBodyAccMag-Mean-1  tBodyAccMag-STD-1  tBodyAccMag-Mad-1  \\\n",
       "0           -0.969546          -0.961540          -0.967646   \n",
       "1           -0.984484          -0.981042          -0.983105   \n",
       "2           -0.987805          -0.990189          -0.990798   \n",
       "3           -0.989940          -0.988966          -0.989351   \n",
       "4           -0.994669          -0.992678          -0.992968   \n",
       "\n",
       "   tBodyAccMag-Max-1  tBodyAccMag-Min-1  tBodyAccMag-SMA-1  \\\n",
       "0          -0.947236          -0.994174          -0.969546   \n",
       "1          -0.979658          -0.996348          -0.984484   \n",
       "2          -0.987446          -0.996348          -0.987805   \n",
       "3          -0.987446          -0.997687          -0.989940   \n",
       "4          -0.991914          -0.997687          -0.994669   \n",
       "\n",
       "   tBodyAccMag-Energy-1  tBodyAccMag-IQR-1  tBodyAccMag-ropy-1  \\\n",
       "0             -0.999150          -0.970525           -0.219620   \n",
       "1             -0.999709          -0.986893           -0.426713   \n",
       "2             -0.999818          -0.990025           -0.583114   \n",
       "3             -0.999849          -0.988460           -0.572296   \n",
       "4             -0.999929          -0.992688           -0.686673   \n",
       "\n",
       "   tBodyAccMag-ARCoeff-1             ...               \\\n",
       "0              -0.124072             ...                \n",
       "1               0.129618             ...                \n",
       "2               0.086279             ...                \n",
       "3              -0.044082             ...                \n",
       "4               0.228080             ...                \n",
       "\n",
       "   fBodyGyroJerkMag-MeanFreq-1  fBodyGyroJerkMag-Skewness-1  \\\n",
       "0                    -0.012236                    -0.314848   \n",
       "1                     0.202804                    -0.603199   \n",
       "2                     0.440079                    -0.404427   \n",
       "3                     0.430891                    -0.138373   \n",
       "4                     0.137735                    -0.366214   \n",
       "\n",
       "   fBodyGyroJerkMag-Kurtosis-1  tBodyAcc-AngleWRTGravity-1  \\\n",
       "0                    -0.713308                   -0.112754   \n",
       "1                    -0.860677                    0.053477   \n",
       "2                    -0.761847                   -0.118559   \n",
       "3                    -0.491604                   -0.036788   \n",
       "4                    -0.702490                    0.123320   \n",
       "\n",
       "   tBodyAccJerk-AngleWRTGravity-1  tBodyGyro-AngleWRTGravity-1  \\\n",
       "0                        0.030400                    -0.464761   \n",
       "1                       -0.007435                    -0.732626   \n",
       "2                        0.177899                     0.100699   \n",
       "3                       -0.012892                     0.640011   \n",
       "4                        0.122542                     0.693578   \n",
       "\n",
       "   tBodyGyroJerk-AngleWRTGravity-1  tXAxisAcc-AngleWRTGravity-1  \\\n",
       "0                        -0.018446                    -0.841559   \n",
       "1                         0.703511                    -0.845092   \n",
       "2                         0.808529                    -0.849230   \n",
       "3                        -0.485366                    -0.848947   \n",
       "4                        -0.615971                    -0.848164   \n",
       "\n",
       "   tYAxisAcc-AngleWRTGravity-1  tZAxisAcc-AngleWRTGravity-1  \n",
       "0                     0.179913                    -0.051718  \n",
       "1                     0.180261                    -0.047436  \n",
       "2                     0.180610                    -0.042271  \n",
       "3                     0.181907                    -0.040826  \n",
       "4                     0.185124                    -0.037080  \n",
       "\n",
       "[5 rows x 124 columns]"
      ]
     },
     "execution_count": 3,
     "metadata": {},
     "output_type": "execute_result"
    }
   ],
   "source": [
    "df = pd.read_table('HAPT_Data_Set/Train/X_train.txt', delimiter=' ',\n",
    "                       usecols=sub_features_indices, names=sub_features_names)\n",
    "df.head()"
   ]
  },
  {
   "cell_type": "code",
   "execution_count": 4,
   "metadata": {
    "collapsed": false
   },
   "outputs": [],
   "source": [
    "subjects = [line.strip() for line in open('HAPT_Data_Set/Train/subject_id_train.txt','r')]\n",
    "df['subject'] = subjects\n",
    "activity = [line.strip() for line in open('HAPT_Data_Set/Train/y_train.txt','r')]\n",
    "df['activity'] = activity"
   ]
  },
  {
   "cell_type": "markdown",
   "metadata": {},
   "source": [
    "**Step 2:** Create initial test table using same process:"
   ]
  },
  {
   "cell_type": "code",
   "execution_count": 5,
   "metadata": {
    "collapsed": false
   },
   "outputs": [],
   "source": [
    "df_test = pd.read_table('HAPT_Data_Set/Test/X_test.txt', delimiter=' ',\n",
    "                       usecols=sub_features_indices, names=sub_features_names)\n",
    "subjects_test = [line.strip() for line in open('HAPT_Data_Set/Test/subject_id_test.txt','r')]\n",
    "df_test['subject'] = subjects_test\n",
    "activity_test = [line.strip() for line in open('HAPT_Data_Set/Test/y_test.txt','r')]\n",
    "df_test['activity'] = activity_test"
   ]
  },
  {
   "cell_type": "markdown",
   "metadata": {},
   "source": [
    "**Step 3:** Plot body acceleration magnitude histograms for the 12 activities to evaluate the ability of this variable to predict static vs dynamic activities:"
   ]
  },
  {
   "cell_type": "code",
   "execution_count": 6,
   "metadata": {
    "collapsed": false
   },
   "outputs": [
    {
     "data": {
      "text/plain": [
       "array([[<matplotlib.axes._subplots.AxesSubplot object at 0x000000000F33F978>,\n",
       "        <matplotlib.axes._subplots.AxesSubplot object at 0x000000000F535F60>,\n",
       "        <matplotlib.axes._subplots.AxesSubplot object at 0x000000000F5C54A8>],\n",
       "       [<matplotlib.axes._subplots.AxesSubplot object at 0x000000000F668F60>,\n",
       "        <matplotlib.axes._subplots.AxesSubplot object at 0x000000000F7347B8>,\n",
       "        <matplotlib.axes._subplots.AxesSubplot object at 0x000000000F820470>],\n",
       "       [<matplotlib.axes._subplots.AxesSubplot object at 0x000000000F8E9080>,\n",
       "        <matplotlib.axes._subplots.AxesSubplot object at 0x000000000F9E5710>,\n",
       "        <matplotlib.axes._subplots.AxesSubplot object at 0x000000000FA9B048>],\n",
       "       [<matplotlib.axes._subplots.AxesSubplot object at 0x000000000FB559B0>,\n",
       "        <matplotlib.axes._subplots.AxesSubplot object at 0x000000000FC328D0>,\n",
       "        <matplotlib.axes._subplots.AxesSubplot object at 0x000000000C950128>]], dtype=object)"
      ]
     },
     "execution_count": 6,
     "metadata": {},
     "output_type": "execute_result"
    },
    {
     "data": {
      "image/png": "[encoded data removed]",
      "text/plain": [
       "<matplotlib.figure.Figure at 0xf33f278>"
      ]
     },
     "metadata": {},
     "output_type": "display_data"
    }
   ],
   "source": [
    "%matplotlib inline\n",
    "df['tBodyAccMag-Mean-1'].hist(by=df['activity'],figsize=(12,12))"
   ]
  },
  {
   "cell_type": "markdown",
   "metadata": {},
   "source": [
    "**Step 4:** Split the initial training table into training and validation sets, and fit a random forest classifier to the training set:"
   ]
  },
  {
   "cell_type": "code",
   "execution_count": 7,
   "metadata": {
    "collapsed": false
   },
   "outputs": [],
   "source": [
    "from sklearn import cross_validation as cv\n",
    "from sklearn.ensemble import RandomForestClassifier"
   ]
  },
  {
   "cell_type": "code",
   "execution_count": 8,
   "metadata": {
    "collapsed": false
   },
   "outputs": [
    {
     "data": {
      "text/plain": [
       "RandomForestClassifier(bootstrap=True, class_weight=None, criterion='gini',\n",
       "            max_depth=None, max_features='auto', max_leaf_nodes=None,\n",
       "            min_samples_leaf=1, min_samples_split=2,\n",
       "            min_weight_fraction_leaf=0.0, n_estimators=500, n_jobs=1,\n",
       "            oob_score=True, random_state=None, verbose=0, warm_start=False)"
      ]
     },
     "execution_count": 8,
     "metadata": {},
     "output_type": "execute_result"
    }
   ],
   "source": [
    "X = df[df.columns.tolist()[:-1]]\n",
    "y = df['activity']\n",
    "\n",
    "X_train, X_val, y_train, y_val = cv.train_test_split(X, y, train_size=0.8, random_state=0)\n",
    "clf = RandomForestClassifier(n_estimators=500, oob_score=True)\n",
    "clf.fit(X_train, y_train)"
   ]
  },
  {
   "cell_type": "markdown",
   "metadata": {},
   "source": [
    "**Step 5:** Rank the features by importance scores, and single out the 10th feature's score:\n",
    "(Metrics between this and the black box model will be compared and summarized in the report's conclusion below.)"
   ]
  },
  {
   "cell_type": "code",
   "execution_count": 76,
   "metadata": {
    "collapsed": false,
    "scrolled": true
   },
   "outputs": [
    {
     "data": {
      "text/plain": [
       "[('tXAxisAcc-AngleWRTGravity-1', 0.1140059401982986),\n",
       " ('tYAxisAcc-AngleWRTGravity-1', 0.10358830289570184),\n",
       " ('tZAxisAcc-AngleWRTGravity-1', 0.057680529606219146),\n",
       " ('tBodyAccJerkMag-Mean-1', 0.0244560638701882),\n",
       " ('tBodyAccJerkMag-SMA-1', 0.022128504800968358),\n",
       " ('tBodyAccJerkMag-ropy-1', 0.018668803170924925),\n",
       " ('tBodyAccJerkMag-Energy-1', 0.01803035996061391),\n",
       " ('tBodyAccJerkMag-IQR-1', 0.017471292795020136),\n",
       " ('tBodyGyroJerkMag-SMA-1', 0.01688424067123679),\n",
       " ('tBodyGyroJerkMag-Mean-1', 0.01572798190383181)]"
      ]
     },
     "execution_count": 76,
     "metadata": {},
     "output_type": "execute_result"
    }
   ],
   "source": [
    "importance_scores = clf.feature_importances_.tolist()\n",
    "important_features = zip(df.columns.tolist()[:-1], importance_scores)\n",
    "important_features.sort(key=lambda x: x[1], reverse=True)\n",
    "top_10_features = important_features[:10]\n",
    "top_10_features"
   ]
  },
  {
   "cell_type": "code",
   "execution_count": 82,
   "metadata": {
    "collapsed": false
   },
   "outputs": [
    {
     "name": "stdout",
     "output_type": "stream",
     "text": [
      "The 10th most important feature is tBodyGyroJerkMag-Mean-1, which has an importance score of 0.0157279819038.\n"
     ]
    }
   ],
   "source": [
    "print 'The 10th most important feature is ' + str(top_10_features[9][0]) +\\\n",
    "       ', which has an importance score of ' + str(top_10_features[9][1]) + '.'"
   ]
  },
  {
   "cell_type": "markdown",
   "metadata": {},
   "source": [
    "**Step 6:** Identify the model's accuracy score on the validation and test sets, and the precision, recall, and F1 scores on the test set:"
   ]
  },
  {
   "cell_type": "code",
   "execution_count": 10,
   "metadata": {
    "collapsed": false
   },
   "outputs": [
    {
     "data": {
      "text/plain": [
       "0.94401544401544402"
      ]
     },
     "execution_count": 10,
     "metadata": {},
     "output_type": "execute_result"
    }
   ],
   "source": [
    "from sklearn import metrics\n",
    "\n",
    "\n",
    "predicted_from_val = clf.predict(X_val)\n",
    "expected_from_val = y_val\n",
    "\n",
    "metrics.accuracy_score(expected_from_val, predicted_from_val)"
   ]
  },
  {
   "cell_type": "code",
   "execution_count": 11,
   "metadata": {
    "collapsed": false
   },
   "outputs": [
    {
     "data": {
      "text/plain": [
       "0.87760910815939275"
      ]
     },
     "execution_count": 11,
     "metadata": {},
     "output_type": "execute_result"
    }
   ],
   "source": [
    "predicted_from_test = clf.predict(df_test[df_test.columns.tolist()[:-1]])\n",
    "expected_from_test = df_test['activity']\n",
    "\n",
    "metrics.accuracy_score(expected_from_test, predicted_from_test)"
   ]
  },
  {
   "cell_type": "code",
   "execution_count": 12,
   "metadata": {
    "collapsed": false
   },
   "outputs": [
    {
     "data": {
      "text/plain": [
       "array([ 0.83022071,  0.5862069 ,  0.6       ,  0.5625    ,  0.82773109,\n",
       "        0.96470588,  0.89596603,  0.85714286,  1.        ,  0.58823529,\n",
       "        0.71428571,  0.60606061])"
      ]
     },
     "execution_count": 12,
     "metadata": {},
     "output_type": "execute_result"
    }
   ],
   "source": [
    "metrics.precision_score(expected_from_test, predicted_from_test, average=None)"
   ]
  },
  {
   "cell_type": "code",
   "execution_count": 13,
   "metadata": {
    "collapsed": false
   },
   "outputs": [
    {
     "data": {
      "text/plain": [
       "array([ 0.9858871 ,  0.68      ,  0.55102041,  0.33333333,  0.83651805,\n",
       "        0.78095238,  0.83070866,  0.91726619,  0.99816514,  0.43478261,\n",
       "        0.5       ,  0.625     ])"
      ]
     },
     "execution_count": 13,
     "metadata": {},
     "output_type": "execute_result"
    }
   ],
   "source": [
    "metrics.recall_score(expected_from_test, predicted_from_test, average=None)"
   ]
  },
  {
   "cell_type": "code",
   "execution_count": 93,
   "metadata": {
    "collapsed": false
   },
   "outputs": [
    {
     "data": {
      "text/plain": [
       "array([ 0.90138249,  0.62962963,  0.57446809,  0.41860465,  0.83210137,\n",
       "        0.86315789,  0.86210419,  0.88618593,  0.99908173,  0.5       ,\n",
       "        0.58823529,  0.61538462])"
      ]
     },
     "execution_count": 93,
     "metadata": {},
     "output_type": "execute_result"
    }
   ],
   "source": [
    "metrics.f1_score(expected_from_test, predicted_from_test, average=None)"
   ]
  },
  {
   "cell_type": "markdown",
   "metadata": {},
   "source": [
    "**Step 6a:** Include the model's oob score and confusion matrix on the test set:"
   ]
  },
  {
   "cell_type": "code",
   "execution_count": 19,
   "metadata": {
    "collapsed": false,
    "scrolled": true
   },
   "outputs": [
    {
     "data": {
      "text/plain": [
       "0.93915982617093197"
      ]
     },
     "execution_count": 19,
     "metadata": {},
     "output_type": "execute_result"
    }
   ],
   "source": [
    "clf.oob_score_"
   ]
  },
  {
   "cell_type": "code",
   "execution_count": 41,
   "metadata": {
    "collapsed": false
   },
   "outputs": [
    {
     "data": {
      "text/plain": [
       "array([[489,   0,   0,   0,   2,   5,   0,   0,   0,   0,   0,   0],\n",
       "       [  0,  17,   1,   6,   1,   0,   0,   0,   0,   0,   0,   0],\n",
       "       [  2,   0,  27,   1,   6,   0,   1,   0,   0,   3,   0,   9],\n",
       "       [  1,  11,   3,   9,   0,   0,   0,   0,   0,   0,   0,   3],\n",
       "       [ 70,   0,   0,   0, 394,   7,   0,   0,   0,   0,   0,   0],\n",
       "       [ 27,   0,   0,   0,  65, 328,   0,   0,   0,   0,   0,   0],\n",
       "       [  0,   0,   0,   0,   0,   0, 422,  85,   0,   1,   0,   0],\n",
       "       [  0,   0,   0,   0,   0,   0,  45, 510,   0,   1,   0,   0],\n",
       "       [  0,   0,   0,   0,   1,   0,   0,   0, 544,   0,   0,   0],\n",
       "       [  0,   0,   3,   0,   6,   0,   2,   0,   0,  10,   2,   0],\n",
       "       [  0,   0,   1,   0,   0,   0,   1,   0,   0,   2,   5,   1],\n",
       "       [  0,   1,  10,   0,   1,   0,   0,   0,   0,   0,   0,  20]])"
      ]
     },
     "execution_count": 41,
     "metadata": {},
     "output_type": "execute_result"
    }
   ],
   "source": [
    "metrics.confusion_matrix(expected_from_test, predicted_from_test)"
   ]
  },
  {
   "cell_type": "markdown",
   "metadata": {},
   "source": [
    "**Step 7:** Create new table for black box analysis, anonymizing the column names:"
   ]
  },
  {
   "cell_type": "code",
   "execution_count": 14,
   "metadata": {
    "collapsed": false
   },
   "outputs": [
    {
     "data": {
      "text/html": [
       "<div>\n",
       "<table border=\"1\" class=\"dataframe\">\n",
       "  <thead>\n",
       "    <tr style=\"text-align: right;\">\n",
       "      <th></th>\n",
       "      <th>x0</th>\n",
       "      <th>x1</th>\n",
       "      <th>x2</th>\n",
       "      <th>x3</th>\n",
       "      <th>x4</th>\n",
       "      <th>x5</th>\n",
       "      <th>x6</th>\n",
       "      <th>x7</th>\n",
       "      <th>x8</th>\n",
       "      <th>x9</th>\n",
       "      <th>...</th>\n",
       "      <th>x553</th>\n",
       "      <th>x554</th>\n",
       "      <th>x555</th>\n",
       "      <th>x556</th>\n",
       "      <th>x557</th>\n",
       "      <th>x558</th>\n",
       "      <th>x559</th>\n",
       "      <th>x560</th>\n",
       "      <th>subject</th>\n",
       "      <th>activity</th>\n",
       "    </tr>\n",
       "  </thead>\n",
       "  <tbody>\n",
       "    <tr>\n",
       "      <th>7762</th>\n",
       "      <td>0.048048</td>\n",
       "      <td>-0.042445</td>\n",
       "      <td>-0.065884</td>\n",
       "      <td>-0.195448</td>\n",
       "      <td>-0.278326</td>\n",
       "      <td>-0.219954</td>\n",
       "      <td>-0.282233</td>\n",
       "      <td>-0.305861</td>\n",
       "      <td>-0.357803</td>\n",
       "      <td>0.267874</td>\n",
       "      <td>...</td>\n",
       "      <td>-0.879026</td>\n",
       "      <td>-0.190437</td>\n",
       "      <td>0.829718</td>\n",
       "      <td>0.206972</td>\n",
       "      <td>-0.425619</td>\n",
       "      <td>-0.792292</td>\n",
       "      <td>0.238580</td>\n",
       "      <td>0.056020</td>\n",
       "      <td>30</td>\n",
       "      <td>2</td>\n",
       "    </tr>\n",
       "    <tr>\n",
       "      <th>7763</th>\n",
       "      <td>0.037639</td>\n",
       "      <td>0.006430</td>\n",
       "      <td>-0.044345</td>\n",
       "      <td>-0.235372</td>\n",
       "      <td>-0.302680</td>\n",
       "      <td>-0.232843</td>\n",
       "      <td>-0.322483</td>\n",
       "      <td>-0.354464</td>\n",
       "      <td>-0.345592</td>\n",
       "      <td>0.181271</td>\n",
       "      <td>...</td>\n",
       "      <td>-0.684496</td>\n",
       "      <td>0.064907</td>\n",
       "      <td>0.875679</td>\n",
       "      <td>-0.879033</td>\n",
       "      <td>0.400219</td>\n",
       "      <td>-0.772288</td>\n",
       "      <td>0.252653</td>\n",
       "      <td>0.056252</td>\n",
       "      <td>30</td>\n",
       "      <td>2</td>\n",
       "    </tr>\n",
       "    <tr>\n",
       "      <th>7764</th>\n",
       "      <td>0.037451</td>\n",
       "      <td>-0.002724</td>\n",
       "      <td>0.021009</td>\n",
       "      <td>-0.218281</td>\n",
       "      <td>-0.378082</td>\n",
       "      <td>-0.076950</td>\n",
       "      <td>-0.304446</td>\n",
       "      <td>-0.400661</td>\n",
       "      <td>-0.193071</td>\n",
       "      <td>0.113141</td>\n",
       "      <td>...</td>\n",
       "      <td>-0.317314</td>\n",
       "      <td>0.052806</td>\n",
       "      <td>-0.266724</td>\n",
       "      <td>0.864404</td>\n",
       "      <td>0.701169</td>\n",
       "      <td>-0.779566</td>\n",
       "      <td>0.249121</td>\n",
       "      <td>0.047071</td>\n",
       "      <td>30</td>\n",
       "      <td>2</td>\n",
       "    </tr>\n",
       "    <tr>\n",
       "      <th>7765</th>\n",
       "      <td>0.044011</td>\n",
       "      <td>-0.004536</td>\n",
       "      <td>-0.051242</td>\n",
       "      <td>-0.219202</td>\n",
       "      <td>-0.383350</td>\n",
       "      <td>-0.081035</td>\n",
       "      <td>-0.310419</td>\n",
       "      <td>-0.380233</td>\n",
       "      <td>-0.201007</td>\n",
       "      <td>0.166671</td>\n",
       "      <td>...</td>\n",
       "      <td>-0.356579</td>\n",
       "      <td>-0.101360</td>\n",
       "      <td>0.700740</td>\n",
       "      <td>0.936674</td>\n",
       "      <td>-0.589479</td>\n",
       "      <td>-0.785603</td>\n",
       "      <td>0.246409</td>\n",
       "      <td>0.031700</td>\n",
       "      <td>30</td>\n",
       "      <td>2</td>\n",
       "    </tr>\n",
       "    <tr>\n",
       "      <th>7766</th>\n",
       "      <td>0.068954</td>\n",
       "      <td>0.001810</td>\n",
       "      <td>-0.080323</td>\n",
       "      <td>-0.269336</td>\n",
       "      <td>-0.366553</td>\n",
       "      <td>-0.147294</td>\n",
       "      <td>-0.377332</td>\n",
       "      <td>-0.360597</td>\n",
       "      <td>-0.255505</td>\n",
       "      <td>0.321881</td>\n",
       "      <td>...</td>\n",
       "      <td>-0.742972</td>\n",
       "      <td>-0.280088</td>\n",
       "      <td>-0.007739</td>\n",
       "      <td>-0.056088</td>\n",
       "      <td>-0.616956</td>\n",
       "      <td>-0.783693</td>\n",
       "      <td>0.246785</td>\n",
       "      <td>0.042981</td>\n",
       "      <td>30</td>\n",
       "      <td>2</td>\n",
       "    </tr>\n",
       "  </tbody>\n",
       "</table>\n",
       "<p>5 rows × 563 columns</p>\n",
       "</div>"
      ],
      "text/plain": [
       "            x0        x1        x2        x3        x4        x5        x6  \\\n",
       "7762  0.048048 -0.042445 -0.065884 -0.195448 -0.278326 -0.219954 -0.282233   \n",
       "7763  0.037639  0.006430 -0.044345 -0.235372 -0.302680 -0.232843 -0.322483   \n",
       "7764  0.037451 -0.002724  0.021009 -0.218281 -0.378082 -0.076950 -0.304446   \n",
       "7765  0.044011 -0.004536 -0.051242 -0.219202 -0.383350 -0.081035 -0.310419   \n",
       "7766  0.068954  0.001810 -0.080323 -0.269336 -0.366553 -0.147294 -0.377332   \n",
       "\n",
       "            x7        x8        x9    ...         x553      x554      x555  \\\n",
       "7762 -0.305861 -0.357803  0.267874    ...    -0.879026 -0.190437  0.829718   \n",
       "7763 -0.354464 -0.345592  0.181271    ...    -0.684496  0.064907  0.875679   \n",
       "7764 -0.400661 -0.193071  0.113141    ...    -0.317314  0.052806 -0.266724   \n",
       "7765 -0.380233 -0.201007  0.166671    ...    -0.356579 -0.101360  0.700740   \n",
       "7766 -0.360597 -0.255505  0.321881    ...    -0.742972 -0.280088 -0.007739   \n",
       "\n",
       "          x556      x557      x558      x559      x560  subject  activity  \n",
       "7762  0.206972 -0.425619 -0.792292  0.238580  0.056020       30         2  \n",
       "7763 -0.879033  0.400219 -0.772288  0.252653  0.056252       30         2  \n",
       "7764  0.864404  0.701169 -0.779566  0.249121  0.047071       30         2  \n",
       "7765  0.936674 -0.589479 -0.785603  0.246409  0.031700       30         2  \n",
       "7766 -0.056088 -0.616956 -0.783693  0.246785  0.042981       30         2  \n",
       "\n",
       "[5 rows x 563 columns]"
      ]
     },
     "execution_count": 14,
     "metadata": {},
     "output_type": "execute_result"
    }
   ],
   "source": [
    "bb_col_names = ['x'+ str(n) for n in range(len(features))]\n",
    "black_box_df = pd.read_table('HAPT_Data_Set/Train/X_train.txt', delimiter=' ',\n",
    "                             names=bb_col_names)\n",
    "black_box_df['subject'] = [int(a) for a in subjects]\n",
    "black_box_df['activity'] = [int (b) for b in activity]\n",
    "black_box_df.tail()"
   ]
  },
  {
   "cell_type": "markdown",
   "metadata": {},
   "source": [
    "**Step 8:** Split the black box table into training, validation, and testing segments, using a 50%/25%/25% split:"
   ]
  },
  {
   "cell_type": "code",
   "execution_count": 56,
   "metadata": {
    "collapsed": false
   },
   "outputs": [],
   "source": [
    "bbdf_X_train = black_box_df[black_box_df.subject <=15].iloc[:,:-1]\n",
    "bbdf_X_val = black_box_df[(black_box_df.subject > 15) & \n",
    "                          (black_box_df.subject < 23)].iloc[:,:-1]\n",
    "bbdf_X_test = black_box_df[black_box_df.subject >=23].iloc[:,:-1]\n",
    "\n",
    "bbdf_y_train = black_box_df[black_box_df.subject <=15].iloc[:,-1:].ix[:,0]\n",
    "bbdf_y_val = black_box_df[(black_box_df.subject > 15) & \n",
    "                          (black_box_df.subject < 23)].iloc[:,-1:].ix[:,0]\n",
    "bbdf_y_test = black_box_df[black_box_df.subject >=23].iloc[:,-1:].ix[:,0]"
   ]
  },
  {
   "cell_type": "markdown",
   "metadata": {},
   "source": [
    "**Step 9:** Fit the training set to the model and determine the oob score:"
   ]
  },
  {
   "cell_type": "code",
   "execution_count": 58,
   "metadata": {
    "collapsed": false
   },
   "outputs": [
    {
     "data": {
      "text/plain": [
       "RandomForestClassifier(bootstrap=True, class_weight=None, criterion='gini',\n",
       "            max_depth=None, max_features='auto', max_leaf_nodes=None,\n",
       "            min_samples_leaf=1, min_samples_split=2,\n",
       "            min_weight_fraction_leaf=0.0, n_estimators=50, n_jobs=1,\n",
       "            oob_score=True, random_state=None, verbose=0, warm_start=False)"
      ]
     },
     "execution_count": 58,
     "metadata": {},
     "output_type": "execute_result"
    }
   ],
   "source": [
    "clf2 = RandomForestClassifier(n_estimators=50, oob_score=True)\n",
    "clf2.fit(bbdf_X_train, bbdf_y_train)"
   ]
  },
  {
   "cell_type": "code",
   "execution_count": 59,
   "metadata": {
    "collapsed": false
   },
   "outputs": [
    {
     "data": {
      "text/plain": [
       "0.95657894736842108"
      ]
     },
     "execution_count": 59,
     "metadata": {},
     "output_type": "execute_result"
    }
   ],
   "source": [
    "clf2.oob_score_"
   ]
  },
  {
   "cell_type": "markdown",
   "metadata": {},
   "source": [
    "**Step 10:** Rank the black box features by their importance scores, apply original column names, and single out the 10th feature's score for comparison:"
   ]
  },
  {
   "cell_type": "code",
   "execution_count": 91,
   "metadata": {
    "collapsed": false,
    "scrolled": true
   },
   "outputs": [
    {
     "data": {
      "text/plain": [
       "[('tYAxisAcc-AngleWRTGravity-1', 0.037147191861849414),\n",
       " ('tGravityAcc-Energy-1', 0.036612483739359346),\n",
       " ('tGravityAcc-Max-2', 0.03291668375458176),\n",
       " ('tGravityAcc-Mean-2', 0.03141650029157666),\n",
       " ('tGravityAcc-Mean-1', 0.031185940886448618),\n",
       " ('tGravityAcc-Min-2', 0.02165349304198817),\n",
       " ('tXAxisAcc-AngleWRTGravity-1', 0.021062544979113904),\n",
       " ('tGravityAcc-Energy-2', 0.02025944394196966),\n",
       " ('fBodyAccJerk-BandsEnergyOld-9', 0.016735765712700478),\n",
       " ('tGravityAcc-Max-1', 0.016142985225180692)]"
      ]
     },
     "execution_count": 91,
     "metadata": {},
     "output_type": "execute_result"
    }
   ],
   "source": [
    "bb_importance_scores = clf2.feature_importances_.tolist()\n",
    "bb_important_features = zip(features[:-1], bb_importance_scores)\n",
    "bb_important_features.sort(key=lambda x: x[1], reverse=True)\n",
    "bb_top_10_features = bb_important_features[:10]\n",
    "bb_top_10_features"
   ]
  },
  {
   "cell_type": "code",
   "execution_count": 92,
   "metadata": {
    "collapsed": false
   },
   "outputs": [
    {
     "name": "stdout",
     "output_type": "stream",
     "text": [
      "The 10th most important feature is tGravityAcc-Max-1, which has an importance score of 0.0161429852252.\n"
     ]
    }
   ],
   "source": [
    "print 'The 10th most important feature is ' + bb_top_10_features[9][0] +\\\n",
    "       ', which has an importance score of ' + str(bb_top_10_features[9][1]) + '.'"
   ]
  },
  {
   "cell_type": "markdown",
   "metadata": {},
   "source": [
    "**Step 11:** Determine black box model's accuracy score for the validation and test sets, and determine the confusion matrix and scores for precision, recall, and F1 on the test set."
   ]
  },
  {
   "cell_type": "code",
   "execution_count": 61,
   "metadata": {
    "collapsed": false
   },
   "outputs": [
    {
     "data": {
      "text/plain": [
       "0.86424870466321246"
      ]
     },
     "execution_count": 61,
     "metadata": {},
     "output_type": "execute_result"
    }
   ],
   "source": [
    "predicted_from_bb_val = clf2.predict(bbdf_X_val)\n",
    "expected_from_bb_val = bbdf_y_val\n",
    "\n",
    "metrics.accuracy_score(expected_from_bb_val, predicted_from_bb_val)"
   ]
  },
  {
   "cell_type": "code",
   "execution_count": 62,
   "metadata": {
    "collapsed": false
   },
   "outputs": [
    {
     "data": {
      "text/plain": [
       "0.89631748301751879"
      ]
     },
     "execution_count": 62,
     "metadata": {},
     "output_type": "execute_result"
    }
   ],
   "source": [
    "predicted_from_bb_test = clf2.predict(bbdf_X_test)\n",
    "expected_from_bb_test = bbdf_y_test\n",
    "\n",
    "metrics.accuracy_score(expected_from_bb_test, predicted_from_bb_test)"
   ]
  },
  {
   "cell_type": "code",
   "execution_count": 63,
   "metadata": {
    "collapsed": false
   },
   "outputs": [
    {
     "data": {
      "text/plain": [
       "array([[416,   1,   2,   0,   0,   0,   1,   0,   0,   0,   1,   0],\n",
       "       [ 12, 319,  13,   0,   0,   0,  43,   0,   0,   0,   0,   0],\n",
       "       [ 27,  41, 294,   0,   0,   0,   0,   0,   0,   0,   0,   0],\n",
       "       [  0,   0,   0, 442,  41,   0,   0,   0,   0,   0,   0,   0],\n",
       "       [  0,   0,   0,  65, 451,   0,   0,   0,   0,   0,   0,   0],\n",
       "       [  0,   0,   0,   0,   0, 520,   0,   0,   0,   0,   0,   0],\n",
       "       [  3,   0,   0,   0,   0,   0,  14,   0,   0,   0,   1,   0],\n",
       "       [  0,   0,   0,   2,   0,   0,   0,   7,   0,   0,   0,   0],\n",
       "       [  0,   0,   0,   2,   0,   0,   0,   0,  13,   0,  13,   0],\n",
       "       [  0,   0,   0,   1,   0,   4,   0,   0,   0,  11,   0,   1],\n",
       "       [  1,   0,   0,   0,   0,   0,   0,   0,   3,   0,  15,   0],\n",
       "       [  0,   0,   0,   1,   0,   3,   0,   0,   0,   8,   0,   5]])"
      ]
     },
     "execution_count": 63,
     "metadata": {},
     "output_type": "execute_result"
    }
   ],
   "source": [
    "metrics.confusion_matrix(expected_from_bb_test, predicted_from_bb_test)"
   ]
  },
  {
   "cell_type": "code",
   "execution_count": 64,
   "metadata": {
    "collapsed": false,
    "scrolled": true
   },
   "outputs": [
    {
     "data": {
      "text/plain": [
       "array([ 0.90631808,  0.88365651,  0.95145631,  0.86159844,  0.91666667,\n",
       "        0.98671727,  0.24137931,  1.        ,  0.8125    ,  0.57894737,\n",
       "        0.5       ,  0.83333333])"
      ]
     },
     "execution_count": 64,
     "metadata": {},
     "output_type": "execute_result"
    }
   ],
   "source": [
    "metrics.precision_score(expected_from_bb_test, predicted_from_bb_test, average=None)"
   ]
  },
  {
   "cell_type": "code",
   "execution_count": 65,
   "metadata": {
    "collapsed": false
   },
   "outputs": [
    {
     "data": {
      "text/plain": [
       "array([ 0.98812352,  0.82428941,  0.8121547 ,  0.91511387,  0.87403101,\n",
       "        1.        ,  0.77777778,  0.77777778,  0.46428571,  0.64705882,\n",
       "        0.78947368,  0.29411765])"
      ]
     },
     "execution_count": 65,
     "metadata": {},
     "output_type": "execute_result"
    }
   ],
   "source": [
    "metrics.recall_score(expected_from_bb_test, predicted_from_bb_test, average=None)"
   ]
  },
  {
   "cell_type": "code",
   "execution_count": 67,
   "metadata": {
    "collapsed": false
   },
   "outputs": [
    {
     "data": {
      "text/plain": [
       "array([ 0.94545455,  0.85294118,  0.87630402,  0.8875502 ,  0.89484127,\n",
       "        0.99331423,  0.36842105,  0.875     ,  0.59090909,  0.61111111,\n",
       "        0.6122449 ,  0.43478261])"
      ]
     },
     "execution_count": 67,
     "metadata": {},
     "output_type": "execute_result"
    }
   ],
   "source": [
    "metrics.f1_score(expected_from_bb_test, predicted_from_bb_test, average=None)"
   ]
  },
  {
   "cell_type": "markdown",
   "metadata": {},
   "source": [
    "**Conclusion:** The black box model outperformed the original model that only looked at 'Mag' and 'Angle' variables. Viewing the table of metrics below, the black box model achieves a higher 10th feature score, accuracy score on the test set, and OOB score. As for the precision, recall, and F1 scores, the black box model respectively outperformed the original model in 66% of actions. Actions 7, 8, 9, and 12 in particular proved more difficult for the black box model to predict, however these actions are postural transitions and not the primary 6 actions at the center of the analysis."
   ]
  },
  {
   "cell_type": "code",
   "execution_count": 98,
   "metadata": {
    "collapsed": false
   },
   "outputs": [
    {
     "data": {
      "text/html": [
       "<div>\n",
       "<table border=\"1\" class=\"dataframe\">\n",
       "  <thead>\n",
       "    <tr style=\"text-align: right;\">\n",
       "      <th></th>\n",
       "      <th>First Model</th>\n",
       "      <th>Black Box Model</th>\n",
       "    </tr>\n",
       "    <tr>\n",
       "      <th>Metric</th>\n",
       "      <th></th>\n",
       "      <th></th>\n",
       "    </tr>\n",
       "  </thead>\n",
       "  <tbody>\n",
       "    <tr>\n",
       "      <th>10th feature score</th>\n",
       "      <td>0.015728</td>\n",
       "      <td>0.016143</td>\n",
       "    </tr>\n",
       "    <tr>\n",
       "      <th>Accuracy - Val</th>\n",
       "      <td>0.944015</td>\n",
       "      <td>0.864249</td>\n",
       "    </tr>\n",
       "    <tr>\n",
       "      <th>Accuracy - Test</th>\n",
       "      <td>0.877609</td>\n",
       "      <td>0.896317</td>\n",
       "    </tr>\n",
       "    <tr>\n",
       "      <th>Precision 1</th>\n",
       "      <td>0.830221</td>\n",
       "      <td>0.906318</td>\n",
       "    </tr>\n",
       "    <tr>\n",
       "      <th>Precision 2</th>\n",
       "      <td>0.586207</td>\n",
       "      <td>0.883657</td>\n",
       "    </tr>\n",
       "    <tr>\n",
       "      <th>Precision 3</th>\n",
       "      <td>0.600000</td>\n",
       "      <td>0.951456</td>\n",
       "    </tr>\n",
       "    <tr>\n",
       "      <th>Precision 4</th>\n",
       "      <td>0.562500</td>\n",
       "      <td>0.861598</td>\n",
       "    </tr>\n",
       "    <tr>\n",
       "      <th>Precision 5</th>\n",
       "      <td>0.827731</td>\n",
       "      <td>0.916667</td>\n",
       "    </tr>\n",
       "    <tr>\n",
       "      <th>Precision 6</th>\n",
       "      <td>0.964706</td>\n",
       "      <td>0.986717</td>\n",
       "    </tr>\n",
       "    <tr>\n",
       "      <th>Precision 7</th>\n",
       "      <td>0.895966</td>\n",
       "      <td>0.241379</td>\n",
       "    </tr>\n",
       "    <tr>\n",
       "      <th>Precision 8</th>\n",
       "      <td>0.857143</td>\n",
       "      <td>1.000000</td>\n",
       "    </tr>\n",
       "    <tr>\n",
       "      <th>Precision 9</th>\n",
       "      <td>1.000000</td>\n",
       "      <td>0.812500</td>\n",
       "    </tr>\n",
       "    <tr>\n",
       "      <th>Precision 10</th>\n",
       "      <td>0.588235</td>\n",
       "      <td>0.578947</td>\n",
       "    </tr>\n",
       "    <tr>\n",
       "      <th>Precision 11</th>\n",
       "      <td>0.714286</td>\n",
       "      <td>0.500000</td>\n",
       "    </tr>\n",
       "    <tr>\n",
       "      <th>Precision 12</th>\n",
       "      <td>0.606061</td>\n",
       "      <td>0.833333</td>\n",
       "    </tr>\n",
       "    <tr>\n",
       "      <th>Recall 1</th>\n",
       "      <td>0.985887</td>\n",
       "      <td>0.988124</td>\n",
       "    </tr>\n",
       "    <tr>\n",
       "      <th>Recall 2</th>\n",
       "      <td>0.680000</td>\n",
       "      <td>0.824289</td>\n",
       "    </tr>\n",
       "    <tr>\n",
       "      <th>Recall 3</th>\n",
       "      <td>0.551020</td>\n",
       "      <td>0.812155</td>\n",
       "    </tr>\n",
       "    <tr>\n",
       "      <th>Recall 4</th>\n",
       "      <td>0.333333</td>\n",
       "      <td>0.915114</td>\n",
       "    </tr>\n",
       "    <tr>\n",
       "      <th>Recall 5</th>\n",
       "      <td>0.836518</td>\n",
       "      <td>0.874031</td>\n",
       "    </tr>\n",
       "    <tr>\n",
       "      <th>Recall 6</th>\n",
       "      <td>0.780952</td>\n",
       "      <td>1.000000</td>\n",
       "    </tr>\n",
       "    <tr>\n",
       "      <th>Recall 7</th>\n",
       "      <td>0.830709</td>\n",
       "      <td>0.777778</td>\n",
       "    </tr>\n",
       "    <tr>\n",
       "      <th>Recall 8</th>\n",
       "      <td>0.917266</td>\n",
       "      <td>0.777778</td>\n",
       "    </tr>\n",
       "    <tr>\n",
       "      <th>Recall 9</th>\n",
       "      <td>0.998165</td>\n",
       "      <td>0.464286</td>\n",
       "    </tr>\n",
       "    <tr>\n",
       "      <th>Recall 10</th>\n",
       "      <td>0.434783</td>\n",
       "      <td>0.647059</td>\n",
       "    </tr>\n",
       "    <tr>\n",
       "      <th>Recall 11</th>\n",
       "      <td>0.500000</td>\n",
       "      <td>0.789474</td>\n",
       "    </tr>\n",
       "    <tr>\n",
       "      <th>Recall 12</th>\n",
       "      <td>0.625000</td>\n",
       "      <td>0.294118</td>\n",
       "    </tr>\n",
       "    <tr>\n",
       "      <th>F1 1</th>\n",
       "      <td>0.901382</td>\n",
       "      <td>0.945455</td>\n",
       "    </tr>\n",
       "    <tr>\n",
       "      <th>F1 2</th>\n",
       "      <td>0.629630</td>\n",
       "      <td>0.852941</td>\n",
       "    </tr>\n",
       "    <tr>\n",
       "      <th>F1 3</th>\n",
       "      <td>0.574468</td>\n",
       "      <td>0.876304</td>\n",
       "    </tr>\n",
       "    <tr>\n",
       "      <th>F1 4</th>\n",
       "      <td>0.418605</td>\n",
       "      <td>0.887550</td>\n",
       "    </tr>\n",
       "    <tr>\n",
       "      <th>F1 5</th>\n",
       "      <td>0.832101</td>\n",
       "      <td>0.894841</td>\n",
       "    </tr>\n",
       "    <tr>\n",
       "      <th>F1 6</th>\n",
       "      <td>0.863158</td>\n",
       "      <td>0.993314</td>\n",
       "    </tr>\n",
       "    <tr>\n",
       "      <th>F1 7</th>\n",
       "      <td>0.862104</td>\n",
       "      <td>0.368421</td>\n",
       "    </tr>\n",
       "    <tr>\n",
       "      <th>F1 8</th>\n",
       "      <td>0.886186</td>\n",
       "      <td>0.875000</td>\n",
       "    </tr>\n",
       "    <tr>\n",
       "      <th>F1 9</th>\n",
       "      <td>0.999082</td>\n",
       "      <td>0.590909</td>\n",
       "    </tr>\n",
       "    <tr>\n",
       "      <th>F1 10</th>\n",
       "      <td>0.500000</td>\n",
       "      <td>0.611111</td>\n",
       "    </tr>\n",
       "    <tr>\n",
       "      <th>F1 11</th>\n",
       "      <td>0.588235</td>\n",
       "      <td>0.612245</td>\n",
       "    </tr>\n",
       "    <tr>\n",
       "      <th>F1 12</th>\n",
       "      <td>0.615385</td>\n",
       "      <td>0.434783</td>\n",
       "    </tr>\n",
       "    <tr>\n",
       "      <th>OOB Score</th>\n",
       "      <td>0.939160</td>\n",
       "      <td>0.956579</td>\n",
       "    </tr>\n",
       "  </tbody>\n",
       "</table>\n",
       "</div>"
      ],
      "text/plain": [
       "                    First Model  Black Box Model\n",
       "Metric                                          \n",
       "10th feature score     0.015728         0.016143\n",
       "Accuracy - Val         0.944015         0.864249\n",
       "Accuracy - Test        0.877609         0.896317\n",
       "Precision 1            0.830221         0.906318\n",
       "Precision 2            0.586207         0.883657\n",
       "Precision 3            0.600000         0.951456\n",
       "Precision 4            0.562500         0.861598\n",
       "Precision 5            0.827731         0.916667\n",
       "Precision 6            0.964706         0.986717\n",
       "Precision 7            0.895966         0.241379\n",
       "Precision 8            0.857143         1.000000\n",
       "Precision 9            1.000000         0.812500\n",
       "Precision 10           0.588235         0.578947\n",
       "Precision 11           0.714286         0.500000\n",
       "Precision 12           0.606061         0.833333\n",
       "Recall 1               0.985887         0.988124\n",
       "Recall 2               0.680000         0.824289\n",
       "Recall 3               0.551020         0.812155\n",
       "Recall 4               0.333333         0.915114\n",
       "Recall 5               0.836518         0.874031\n",
       "Recall 6               0.780952         1.000000\n",
       "Recall 7               0.830709         0.777778\n",
       "Recall 8               0.917266         0.777778\n",
       "Recall 9               0.998165         0.464286\n",
       "Recall 10              0.434783         0.647059\n",
       "Recall 11              0.500000         0.789474\n",
       "Recall 12              0.625000         0.294118\n",
       "F1 1                   0.901382         0.945455\n",
       "F1 2                   0.629630         0.852941\n",
       "F1 3                   0.574468         0.876304\n",
       "F1 4                   0.418605         0.887550\n",
       "F1 5                   0.832101         0.894841\n",
       "F1 6                   0.863158         0.993314\n",
       "F1 7                   0.862104         0.368421\n",
       "F1 8                   0.886186         0.875000\n",
       "F1 9                   0.999082         0.590909\n",
       "F1 10                  0.500000         0.611111\n",
       "F1 11                  0.588235         0.612245\n",
       "F1 12                  0.615385         0.434783\n",
       "OOB Score              0.939160         0.956579"
      ]
     },
     "execution_count": 98,
     "metadata": {},
     "output_type": "execute_result"
    }
   ],
   "source": [
    "comparison = pd.read_csv('random_forest_results_comparison.csv')\n",
    "comparison = comparison.set_index('Metric')\n",
    "comparison"
   ]
  }
 ],
 "metadata": {
  "kernelspec": {
   "display_name": "Python 2",
   "language": "python",
   "name": "python2"
  },
  "language_info": {
   "codemirror_mode": {
    "name": "ipython",
    "version": 2
   },
   "file_extension": ".py",
   "mimetype": "text/x-python",
   "name": "python",
   "nbconvert_exporter": "python",
   "pygments_lexer": "ipython2",
   "version": "2.7.10"
  }
 },
 "nbformat": 4,
 "nbformat_minor": 0
}
