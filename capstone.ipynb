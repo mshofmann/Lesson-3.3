{
 "cells": [
  {
   "cell_type": "markdown",
   "metadata": {},
   "source": [
    "# Thinkful Capstone Project\n",
    "\n",
    "## Determining the Drivers of Customer Satisfaction\n",
    "\n",
    "The goal of this project was to look at automotive customer survey data to determine why customers provide high ratings on their surveys, using the open ended comments. \n",
    "\n",
    "The open ended comments on these surveys have been sorted into topics (called \"perspectives\" in this report) on a sentence-by-sentence basis, using proprietary text analysis software. A survey can have multiple perspectives attributed to it, due to the fact that customers can type at length about their experience and touch on many different topics (e.g. friendliness, professionalism, timeliness, etc.).\n",
    "\n",
    "The rating scale question analyzed was a 0-10 scale question asking \"How likely are you to recommend this dealership to a friend or family member?\" with 0 being very unlikely and 10 being very likely. \n",
    "\n",
    "Using logistic regression, the specific goal was to measure the ability of each perspective to predict a score over a certain threshhold, and then to rank those perspectives. "
   ]
  },
  {
   "cell_type": "code",
   "execution_count": 1,
   "metadata": {
    "collapsed": false
   },
   "outputs": [],
   "source": [
    "%matplotlib inline\n",
    "import matplotlib.pyplot as plt\n",
    "import csv\n",
    "import pandas as pd\n",
    "import numpy as np\n",
    "import statsmodels.formula.api as smf\n",
    "from sklearn import cross_validation\n",
    "from sklearn.metrics import confusion_matrix, recall_score, precision_score, f1_score, accuracy_score\n",
    "import random\n",
    "from itertools import product"
   ]
  },
  {
   "cell_type": "markdown",
   "metadata": {},
   "source": [
    "#### Pull in the names of the top 200 positive and general perspectives (by volume) from 3 months of survey data, then clean the names for analysis."
   ]
  },
  {
   "cell_type": "code",
   "execution_count": 2,
   "metadata": {
    "collapsed": false
   },
   "outputs": [],
   "source": [
    "pos_pxs = []\n",
    "with open('Nissan service - top 200 pxs capstone1.4.csv','r') as file:\n",
    "    readit = csv.reader(file, delimiter=',')\n",
    "    for row in readit:\n",
    "        pos_pxs.append(row[0])\n",
    "pos_pxs = pos_pxs[1:]"
   ]
  },
  {
   "cell_type": "code",
   "execution_count": 3,
   "metadata": {
    "collapsed": false
   },
   "outputs": [],
   "source": [
    "pos_pxs_clean = [w.replace(' / ', '_')\n",
    "              .replace(' (', '_')\n",
    "              .replace(')', '')\n",
    "              .replace(': ', '_')\n",
    "              .replace(', ', '_')\n",
    "              .replace(' & ', '_')\n",
    "              .replace(' - ', '_')\n",
    "              .replace('1', 'One')\n",
    "              .replace(' ', '_')\n",
    "              .replace('-', '_')\n",
    "              .replace('/', '_')\n",
    "              for w in pos_pxs]\n",
    "\n",
    "pos_px_lookup = dict(zip(pos_pxs, pos_pxs_clean))"
   ]
  },
  {
   "cell_type": "markdown",
   "metadata": {},
   "source": [
    "#### Read in the survey data, clean the perspective names, and arrange the data for logistic analysis."
   ]
  },
  {
   "cell_type": "code",
   "execution_count": 4,
   "metadata": {
    "collapsed": false,
    "scrolled": true
   },
   "outputs": [
    {
     "name": "stdout",
     "output_type": "stream",
     "text": [
      "<class 'pandas.core.frame.DataFrame'>\n",
      "Int64Index: 254421 entries, 0 to 254420\n",
      "Data columns (total 3 columns):\n",
      "response_id                 254421 non-null int64\n",
      "perspective_name            254421 non-null object\n",
      "nps_dealer_service_score    254421 non-null int64\n",
      "dtypes: int64(2), object(1)\n",
      "memory usage: 7.8+ MB\n"
     ]
    }
   ],
   "source": [
    "pos_df = pd.read_csv('capstone1.4.csv')\n",
    "pos_df.info()"
   ]
  },
  {
   "cell_type": "code",
   "execution_count": 5,
   "metadata": {
    "collapsed": false
   },
   "outputs": [
    {
     "data": {
      "text/html": [
       "<div>\n",
       "<table border=\"1\" class=\"dataframe\">\n",
       "  <thead>\n",
       "    <tr style=\"text-align: right;\">\n",
       "      <th></th>\n",
       "      <th>response_id</th>\n",
       "      <th>perspective_name</th>\n",
       "      <th>nps_dealer_service_score</th>\n",
       "    </tr>\n",
       "  </thead>\n",
       "  <tbody>\n",
       "    <tr>\n",
       "      <th>0</th>\n",
       "      <td>108239411</td>\n",
       "      <td>Professional</td>\n",
       "      <td>9</td>\n",
       "    </tr>\n",
       "    <tr>\n",
       "      <th>1</th>\n",
       "      <td>108239411</td>\n",
       "      <td>Servicing - Good</td>\n",
       "      <td>9</td>\n",
       "    </tr>\n",
       "    <tr>\n",
       "      <th>2</th>\n",
       "      <td>108245208</td>\n",
       "      <td>Survey - General</td>\n",
       "      <td>1</td>\n",
       "    </tr>\n",
       "    <tr>\n",
       "      <th>3</th>\n",
       "      <td>108252982</td>\n",
       "      <td>Dashboard - General</td>\n",
       "      <td>8</td>\n",
       "    </tr>\n",
       "    <tr>\n",
       "      <th>4</th>\n",
       "      <td>108252982</td>\n",
       "      <td>Locks &amp; Keys - General / Good</td>\n",
       "      <td>8</td>\n",
       "    </tr>\n",
       "  </tbody>\n",
       "</table>\n",
       "</div>"
      ],
      "text/plain": [
       "   response_id               perspective_name  nps_dealer_service_score\n",
       "0    108239411                   Professional                         9\n",
       "1    108239411               Servicing - Good                         9\n",
       "2    108245208               Survey - General                         1\n",
       "3    108252982            Dashboard - General                         8\n",
       "4    108252982  Locks & Keys - General / Good                         8"
      ]
     },
     "execution_count": 5,
     "metadata": {},
     "output_type": "execute_result"
    }
   ],
   "source": [
    "pos_df.head()"
   ]
  },
  {
   "cell_type": "code",
   "execution_count": 6,
   "metadata": {
    "collapsed": false,
    "scrolled": true
   },
   "outputs": [
    {
     "data": {
      "text/html": [
       "<div>\n",
       "<table border=\"1\" class=\"dataframe\">\n",
       "  <thead>\n",
       "    <tr style=\"text-align: right;\">\n",
       "      <th></th>\n",
       "      <th>response_id</th>\n",
       "      <th>perspective_name</th>\n",
       "      <th>nps_dealer_service_score</th>\n",
       "    </tr>\n",
       "  </thead>\n",
       "  <tbody>\n",
       "    <tr>\n",
       "      <th>0</th>\n",
       "      <td>108239411</td>\n",
       "      <td>Professional</td>\n",
       "      <td>9</td>\n",
       "    </tr>\n",
       "    <tr>\n",
       "      <th>1</th>\n",
       "      <td>108239411</td>\n",
       "      <td>Servicing_Good</td>\n",
       "      <td>9</td>\n",
       "    </tr>\n",
       "    <tr>\n",
       "      <th>2</th>\n",
       "      <td>108245208</td>\n",
       "      <td>Survey_General</td>\n",
       "      <td>1</td>\n",
       "    </tr>\n",
       "    <tr>\n",
       "      <th>3</th>\n",
       "      <td>108252982</td>\n",
       "      <td>Dashboard_General</td>\n",
       "      <td>8</td>\n",
       "    </tr>\n",
       "    <tr>\n",
       "      <th>4</th>\n",
       "      <td>108252982</td>\n",
       "      <td>Locks_Keys_General_Good</td>\n",
       "      <td>8</td>\n",
       "    </tr>\n",
       "  </tbody>\n",
       "</table>\n",
       "</div>"
      ],
      "text/plain": [
       "   response_id         perspective_name  nps_dealer_service_score\n",
       "0    108239411             Professional                         9\n",
       "1    108239411           Servicing_Good                         9\n",
       "2    108245208           Survey_General                         1\n",
       "3    108252982        Dashboard_General                         8\n",
       "4    108252982  Locks_Keys_General_Good                         8"
      ]
     },
     "execution_count": 6,
     "metadata": {},
     "output_type": "execute_result"
    }
   ],
   "source": [
    "pos_df.perspective_name.replace(pos_px_lookup, inplace=True)\n",
    "pos_df.head()"
   ]
  },
  {
   "cell_type": "code",
   "execution_count": 43,
   "metadata": {
    "collapsed": false
   },
   "outputs": [
    {
     "data": {
      "text/plain": [
       "<matplotlib.axes._subplots.AxesSubplot at 0x20f21a20>"
      ]
     },
     "execution_count": 43,
     "metadata": {},
     "output_type": "execute_result"
    },
    {
     "data": {
      "image/png": "[encoded data removed]",
      "text/plain": [
       "<matplotlib.figure.Figure at 0x2b550710>"
      ]
     },
     "metadata": {},
     "output_type": "display_data"
    }
   ],
   "source": [
    "pos_df['perspective_name'].value_counts()[1:50].plot(kind='bar',figsize=(11,5))"
   ]
  },
  {
   "cell_type": "code",
   "execution_count": 7,
   "metadata": {
    "collapsed": false
   },
   "outputs": [],
   "source": [
    "pos_scores = pos_df[['response_id','nps_dealer_service_score']].drop_duplicates().set_index('response_id')"
   ]
  },
  {
   "cell_type": "code",
   "execution_count": 10,
   "metadata": {
    "collapsed": false
   },
   "outputs": [],
   "source": [
    "pos_px_table = (\n",
    "            pos_df\n",
    "            .groupby('response_id')\n",
    "            .perspective_name\n",
    "            .value_counts()\n",
    "            .reset_index()\n",
    "            .pivot(index='response_id',columns='level_1',values=0)\n",
    "            .fillna(0)\n",
    "            .assign(scores = pos_scores)\n",
    "            .dropna()\n",
    ")"
   ]
  },
  {
   "cell_type": "markdown",
   "metadata": {},
   "source": [
    "#### Run the analysis, adapting target scores and decision threshhold, to determine optimal performance as measured by F1 Score."
   ]
  },
  {
   "cell_type": "code",
   "execution_count": 15,
   "metadata": {
    "collapsed": false,
    "scrolled": true
   },
   "outputs": [
    {
     "name": "stdout",
     "output_type": "stream",
     "text": [
      "Optimization terminated successfully.\n",
      "         Current function value: 0.314825\n",
      "         Iterations 8\n",
      "Optimization terminated successfully.\n",
      "         Current function value: 0.314825\n",
      "         Iterations 8\n",
      "Optimization terminated successfully.\n",
      "         Current function value: 0.314825\n",
      "         Iterations 8\n",
      "Optimization terminated successfully.\n",
      "         Current function value: 0.314825\n",
      "         Iterations 8\n",
      "Optimization terminated successfully.\n",
      "         Current function value: 0.314825\n",
      "         Iterations 8\n",
      "Optimization terminated successfully.\n",
      "         Current function value: 0.314825\n",
      "         Iterations 8\n",
      "Optimization terminated successfully.\n",
      "         Current function value: 0.314825\n",
      "         Iterations 8\n",
      "Optimization terminated successfully.\n",
      "         Current function value: 0.314825\n",
      "         Iterations 8\n",
      "Optimization terminated successfully.\n",
      "         Current function value: 0.314825\n",
      "         Iterations 8\n",
      "Optimization terminated successfully.\n",
      "         Current function value: 0.354527\n",
      "         Iterations 7\n",
      "Optimization terminated successfully.\n",
      "         Current function value: 0.354527\n",
      "         Iterations 7\n",
      "Optimization terminated successfully.\n",
      "         Current function value: 0.354527\n",
      "         Iterations 7\n",
      "Optimization terminated successfully.\n",
      "         Current function value: 0.354527\n",
      "         Iterations 7\n",
      "Optimization terminated successfully.\n",
      "         Current function value: 0.354527\n",
      "         Iterations 7\n",
      "Optimization terminated successfully.\n",
      "         Current function value: 0.354527\n",
      "         Iterations 7\n",
      "Optimization terminated successfully.\n",
      "         Current function value: 0.354527\n",
      "         Iterations 7\n",
      "Optimization terminated successfully.\n",
      "         Current function value: 0.354527\n",
      "         Iterations 7\n",
      "Optimization terminated successfully.\n",
      "         Current function value: 0.354527\n",
      "         Iterations 7\n",
      "Optimization terminated successfully.\n",
      "         Current function value: 0.421408\n",
      "         Iterations 7\n",
      "Optimization terminated successfully.\n",
      "         Current function value: 0.421408\n",
      "         Iterations 7\n",
      "Optimization terminated successfully.\n",
      "         Current function value: 0.421408\n",
      "         Iterations 7\n",
      "Optimization terminated successfully.\n",
      "         Current function value: 0.421408\n",
      "         Iterations 7\n",
      "Optimization terminated successfully.\n",
      "         Current function value: 0.421408\n",
      "         Iterations 7\n",
      "Optimization terminated successfully.\n",
      "         Current function value: 0.421408\n",
      "         Iterations 7\n",
      "Optimization terminated successfully.\n",
      "         Current function value: 0.421408\n",
      "         Iterations 7\n",
      "Optimization terminated successfully.\n",
      "         Current function value: 0.421408\n",
      "         Iterations 7\n",
      "Optimization terminated successfully.\n",
      "         Current function value: 0.421408\n",
      "         Iterations 7\n",
      "Optimization terminated successfully.\n",
      "         Current function value: 0.532479\n",
      "         Iterations 6\n",
      "Optimization terminated successfully.\n",
      "         Current function value: 0.532479\n",
      "         Iterations 6\n",
      "Optimization terminated successfully.\n",
      "         Current function value: 0.532479\n",
      "         Iterations 6\n",
      "Optimization terminated successfully.\n",
      "         Current function value: 0.532479\n",
      "         Iterations 6\n",
      "Optimization terminated successfully.\n",
      "         Current function value: 0.532479\n",
      "         Iterations 6\n",
      "Optimization terminated successfully.\n",
      "         Current function value: 0.532479\n",
      "         Iterations 6\n",
      "Optimization terminated successfully.\n",
      "         Current function value: 0.532479\n",
      "         Iterations 6\n",
      "Optimization terminated successfully.\n",
      "         Current function value: 0.532479\n",
      "         Iterations 6\n",
      "Optimization terminated successfully.\n",
      "         Current function value: 0.532479\n",
      "         Iterations 6\n",
      "Optimization terminated successfully.\n",
      "         Current function value: 0.616286\n",
      "         Iterations 7\n",
      "Optimization terminated successfully.\n",
      "         Current function value: 0.616286\n",
      "         Iterations 7\n",
      "Optimization terminated successfully.\n",
      "         Current function value: 0.616286\n",
      "         Iterations 7\n",
      "Optimization terminated successfully.\n",
      "         Current function value: 0.616286\n",
      "         Iterations 7\n",
      "Optimization terminated successfully.\n",
      "         Current function value: 0.616286\n",
      "         Iterations 7\n",
      "Optimization terminated successfully.\n",
      "         Current function value: 0.616286\n",
      "         Iterations 7\n",
      "Optimization terminated successfully.\n",
      "         Current function value: 0.616286\n",
      "         Iterations 7\n",
      "Optimization terminated successfully.\n",
      "         Current function value: 0.616286\n",
      "         Iterations 7\n",
      "Optimization terminated successfully.\n",
      "         Current function value: 0.616286\n",
      "         Iterations 7\n",
      "(0.93032988504950709, 5, 50, 0.5)\n"
     ]
    }
   ],
   "source": [
    "def pos_metric_cube():\n",
    "    results = []\n",
    "    scores = range(5,10)\n",
    "    pxs = range(50,51)\n",
    "    threshholds = np.arange(0.1,1.0,0.1)\n",
    "    for score, top_pxs, threshhold in product(scores, pxs, threshholds):\n",
    "        metric = pos_logistic_regression2(pos_px_table, score, top_pxs, threshhold)\n",
    "        results.append((metric, score, top_pxs, threshhold))\n",
    "    results.sort(key = lambda x: x[0])\n",
    "    print results[-1]\n",
    "    \n",
    "    \n",
    "def pos_logistic_regression2(sample, score, top_pxs, threshhold):\n",
    "       \n",
    "    sample['promoter'] = (sample.scores > score).astype(int)\n",
    "    \n",
    "    cols = pos_df.perspective_name.value_counts().head(top_pxs).index\n",
    "    model = smf.logit('promoter ~ {}'.format(' + '.join(cols)), sample).fit()\n",
    "    \n",
    "    probabilities = model.predict(sample)\n",
    "    decisions = (probabilities > threshhold).astype(int)\n",
    "    \n",
    "    f1 = f1_score(sample.promoter, decisions)\n",
    "    return f1\n",
    "\n",
    "pos_metric_cube()"
   ]
  },
  {
   "cell_type": "markdown",
   "metadata": {},
   "source": [
    "#### The results of this analysis show that one can expect an F1 score of 93 if one looks for scores above 5, uses 50 predictor variables (perspectives), and uses 0.5 as the decision threshhold.\n",
    "\n",
    "#### Rerun the logistic regression using these parameters, displaying the summary and other metrics including a confusion matrix."
   ]
  },
  {
   "cell_type": "code",
   "execution_count": 16,
   "metadata": {
    "collapsed": false
   },
   "outputs": [],
   "source": [
    "def pos_logistic_regression(score, top_pxs, threshhold):\n",
    "\n",
    "    pos_px_table['promoter'] = (pos_px_table.scores > score).astype(int)\n",
    "    \n",
    "    cols = pos_df.perspective_name.value_counts().head(top_pxs).index\n",
    "    model = smf.logit('promoter ~ {}'.format(' + '.join(cols)), pos_px_table).fit()\n",
    "    print model.summary()\n",
    "    \n",
    "    probabilities = model.predict(pos_px_table)\n",
    "    decisions = (probabilities > threshhold).astype(int)\n",
    "    \n",
    "    accuracy = accuracy_score(pos_px_table.promoter, decisions)\n",
    "    print '\\nAccuracy Score: {}'.format(accuracy)\n",
    "    \n",
    "    recall = recall_score(pos_px_table.promoter, decisions)\n",
    "    print '\\nRecall Score: {}'.format(recall)\n",
    "    \n",
    "    precision = precision_score(pos_px_table.promoter, decisions)\n",
    "    print '\\nPrecision Score: {}'.format(precision)\n",
    "    \n",
    "    f1 = f1_score(pos_px_table.promoter, decisions)\n",
    "    print '\\nF1 Score: {}'.format(f1)\n",
    "    \n",
    "    cm = confusion_matrix(pos_px_table.promoter, decisions)\n",
    "    print '\\nConfusion Matrix:\\n'\n",
    "    print cm\n",
    "    \n",
    "    plt.imshow(cm, interpolation='nearest', cmap=plt.cm.Blues)\n",
    "    tick_marks = np.arange(2)\n",
    "    plt.xticks(tick_marks)\n",
    "    plt.yticks(tick_marks)\n",
    "    plt.ylabel('true')\n",
    "    plt.xlabel('predicted')\n",
    "    \n",
    "    return model"
   ]
  },
  {
   "cell_type": "code",
   "execution_count": 17,
   "metadata": {
    "collapsed": false,
    "scrolled": false
   },
   "outputs": [
    {
     "name": "stdout",
     "output_type": "stream",
     "text": [
      "Optimization terminated successfully.\n",
      "         Current function value: 0.314825\n",
      "         Iterations 8\n",
      "                           Logit Regression Results                           \n",
      "==============================================================================\n",
      "Dep. Variable:               promoter   No. Observations:                78739\n",
      "Model:                          Logit   Df Residuals:                    78688\n",
      "Method:                           MLE   Df Model:                           50\n",
      "Date:                Wed, 06 Apr 2016   Pseudo R-squ.:                  0.2011\n",
      "Time:                        09:00:02   Log-Likelihood:                -24789.\n",
      "converged:                       True   LL-Null:                       -31030.\n",
      "                                        LLR p-value:                     0.000\n",
      "================================================================================================================\n",
      "                                                   coef    std err          z      P>|z|      [95.0% Conf. Int.]\n",
      "----------------------------------------------------------------------------------------------------------------\n",
      "Intercept                                        1.5313      0.018     83.974      0.000         1.496     1.567\n",
      "Customer_Service_Good                            1.2421      0.029     42.414      0.000         1.185     1.300\n",
      "Handled_Customer_Well                            0.5527      0.029     18.741      0.000         0.495     0.610\n",
      "Friendly                                         0.8893      0.045     19.675      0.000         0.801     0.978\n",
      "Assistance_Good                                  0.3222      0.034      9.549      0.000         0.256     0.388\n",
      "Timeliness_Good                                  0.8639      0.048     17.910      0.000         0.769     0.958\n",
      "Oil_Change_General                              -0.5604      0.022    -25.557      0.000        -0.603    -0.517\n",
      "Polite                                           0.5740      0.056     10.325      0.000         0.465     0.683\n",
      "Professional                                     0.9333      0.067     14.017      0.000         0.803     1.064\n",
      "Vehicle_Good                                    -0.0247      0.042     -0.584      0.559        -0.108     0.058\n",
      "Servicing_General                               -0.6643      0.032    -21.068      0.000        -0.726    -0.603\n",
      "Caring                                           0.2072      0.052      4.003      0.000         0.106     0.309\n",
      "Complaints_None                                 -0.1753      0.043     -4.093      0.000        -0.259    -0.091\n",
      "Car_Wash_Detail_General                         -0.0514      0.040     -1.277      0.202        -0.130     0.028\n",
      "Servicing_Tires                                 -0.2976      0.035     -8.541      0.000        -0.366    -0.229\n",
      "Informative                                      0.4101      0.066      6.169      0.000         0.280     0.540\n",
      "Servicing_Good                                  -0.0851      0.059     -1.453      0.146        -0.200     0.030\n",
      "Payments_General                                -0.8763      0.036    -24.433      0.000        -0.947    -0.806\n",
      "Free_Items_Services                             -0.0410      0.046     -0.890      0.374        -0.131     0.049\n",
      "Service_Department_General                      -0.7218      0.042    -17.257      0.000        -0.804    -0.640\n",
      "Knowledge_Good                                   0.2994      0.079      3.780      0.000         0.144     0.455\n",
      "Tires_General_Good                              -0.2410      0.038     -6.323      0.000        -0.316    -0.166\n",
      "Dealership_Good                                  0.5791      0.075      7.744      0.000         0.433     0.726\n",
      "Drop_Off_Pick_Up_Vehicle_Condition_Good         -0.7984      0.200     -3.996      0.000        -1.190    -0.407\n",
      "Costs_Service_Low_Fair                           0.1387      0.068      2.037      0.042         0.005     0.272\n",
      "Car_Wash_Detail_Good                             1.1812      0.213      5.545      0.000         0.764     1.599\n",
      "Honest_Trust                                    -0.1073      0.065     -1.658      0.097        -0.234     0.020\n",
      "NNA_Experience_Previous                         -0.5963      0.056    -10.650      0.000        -0.706    -0.487\n",
      "Maintenance_General                             -0.2158      0.048     -4.499      0.000        -0.310    -0.122\n",
      "Would_Recommend                                 -0.1776      0.063     -2.812      0.005        -0.301    -0.054\n",
      "Invoice_General_Good                            -0.5959      0.048    -12.472      0.000        -0.690    -0.502\n",
      "Communication_Good                              -0.1806      0.076     -2.378      0.017        -0.329    -0.032\n",
      "Recall_Service_Campaign_Experience_General      -0.4297      0.049     -8.813      0.000        -0.525    -0.334\n",
      "Costs_Service_Discount_Special_Offer_General    -0.0482      0.057     -0.849      0.396        -0.160     0.063\n",
      "Waiting_Area_General                            -0.2376      0.067     -3.533      0.000        -0.369    -0.106\n",
      "Retention_Signals                                0.0366      0.093      0.395      0.693        -0.145     0.218\n",
      "Engine_General                                  -0.8702      0.055    -15.799      0.000        -0.978    -0.762\n",
      "Waiting_Area_Good                                0.8136      0.146      5.590      0.000         0.528     1.099\n",
      "Refreshments_General                             0.3977      0.095      4.194      0.000         0.212     0.584\n",
      "Expectations_Met                                 0.7657      0.131      5.826      0.000         0.508     1.023\n",
      "Oil_Lubrication                                 -0.6564      0.057    -11.452      0.000        -0.769    -0.544\n",
      "Reliability_Good                                 0.7625      0.128      5.938      0.000         0.511     1.014\n",
      "Vehicle_Finance_Loans                           -0.3822      0.060     -6.395      0.000        -0.499    -0.265\n",
      "Performance_General                             -0.5911      0.069     -8.617      0.000        -0.726    -0.457\n",
      "Did_Not_Pressure_Customer                       -0.0327      0.095     -0.345      0.730        -0.219     0.153\n",
      "Performance_Good                                 0.2167      0.107      2.029      0.042         0.007     0.426\n",
      "Contracts_Paperwork_General                     -0.7461      0.071    -10.538      0.000        -0.885    -0.607\n",
      "Service_Booking_Good                             0.0872      0.120      0.730      0.466        -0.147     0.322\n",
      "Locks_Keys_General_Good                         -0.8216      0.068    -12.153      0.000        -0.954    -0.689\n",
      "Brand_Good                                       0.1156      0.108      1.073      0.283        -0.096     0.327\n",
      "Enjoyment                                        0.2207      0.122      1.805      0.071        -0.019     0.460\n",
      "================================================================================================================\n",
      "\n",
      "Accuracy Score: 0.872299622804\n",
      "\n",
      "Recall Score: 0.984643815726\n",
      "\n",
      "Precision Score: 0.881694728271\n",
      "\n",
      "F1 Score: 0.93032988505\n",
      "\n",
      "Confusion Matrix:\n",
      "\n",
      "[[ 1550  9008]\n",
      " [ 1047 67134]]\n"
     ]
    },
    {
     "data": {
      "image/png": "[encoded data removed]",
      "text/plain": [
       "<matplotlib.figure.Figure at 0x390d2e8>"
      ]
     },
     "metadata": {},
     "output_type": "display_data"
    }
   ],
   "source": [
    "pos_model = pos_logistic_regression(5, 50, 0.5)"
   ]
  },
  {
   "cell_type": "markdown",
   "metadata": {},
   "source": [
    "#### Sort the top 20 perspectives by coefficient to arrive at the top drivers of customer recommendation."
   ]
  },
  {
   "cell_type": "code",
   "execution_count": 18,
   "metadata": {
    "collapsed": false,
    "scrolled": true
   },
   "outputs": [
    {
     "data": {
      "text/plain": [
       "Customer_Service_Good     1.242115\n",
       "Car_Wash_Detail_Good      1.181158\n",
       "Professional              0.933333\n",
       "Friendly                  0.889318\n",
       "Timeliness_Good           0.863917\n",
       "Waiting_Area_Good         0.813581\n",
       "Expectations_Met          0.765652\n",
       "Reliability_Good          0.762476\n",
       "Dealership_Good           0.579066\n",
       "Polite                    0.573956\n",
       "Handled_Customer_Well     0.552654\n",
       "Informative               0.410079\n",
       "Refreshments_General      0.397736\n",
       "Assistance_Good           0.322238\n",
       "Knowledge_Good            0.299379\n",
       "Enjoyment                 0.220651\n",
       "Performance_Good          0.216701\n",
       "Caring                    0.207159\n",
       "Costs_Service_Low_Fair    0.138712\n",
       "Brand_Good                0.115550\n",
       "dtype: float64"
      ]
     },
     "execution_count": 18,
     "metadata": {},
     "output_type": "execute_result"
    }
   ],
   "source": [
    "pos_model.params.order(ascending=False)[1:21]"
   ]
  },
  {
   "cell_type": "markdown",
   "metadata": {},
   "source": [
    "#### Conclusion\n",
    "\n",
    "The results of this analysis show that for a customer to recommend the dealership to a friend or family member, they most appreciate a positive interpersonal interaction when they bring their cars in for service, though having their cars cleaned also makes a big impact. \n",
    "\n",
    "Staff hiring and training should focus on maximizing great people skills in order to make the biggest impact on word of mouth marketing for dealers. \n",
    "\n",
    "Further application of this analysis could be forecasting higher scores based on hypothetical increases in the volume of certain perspectives in surveys. For instance, if surveys with Professional comments increased by 25% at a specific dealership, how would that impact the overall recommendation score for that location? What other measures might also increase? What kind of increase in monthly sales or customer loyalty could be expected?"
   ]
  }
 ],
 "metadata": {
  "kernelspec": {
   "display_name": "Python 2",
   "language": "python",
   "name": "python2"
  },
  "language_info": {
   "codemirror_mode": {
    "name": "ipython",
    "version": 2
   },
   "file_extension": ".py",
   "mimetype": "text/x-python",
   "name": "python",
   "nbconvert_exporter": "python",
   "pygments_lexer": "ipython2",
   "version": "2.7.10"
  }
 },
 "nbformat": 4,
 "nbformat_minor": 0
}
