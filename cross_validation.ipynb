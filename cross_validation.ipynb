{
 "cells": [
  {
   "cell_type": "markdown",
   "metadata": {},
   "source": [
    "# Using Cross Validation to Evaluate a Model's Performance\n",
    "\n",
    "### Problem: Given FICO Score and the loan amount requested, what will be the interest rate?\n",
    "\n",
    "**Step 1:** Downloading the data and cleaning pertinent columns:"
   ]
  },
  {
   "cell_type": "code",
   "execution_count": 41,
   "metadata": {
    "collapsed": true
   },
   "outputs": [],
   "source": [
    "import pandas as pd\n",
    "\n",
    "\n",
    "loansData = pd.read_csv('https://spark-public.s3.amazonaws.com/dataanalysis/loansData.csv')\n",
    "\n",
    "# Clean Interest.Rate and FICO.Range fields\n",
    "g = lambda x: round(float(x[0:-1])/100,4)\n",
    "clean_Interest_Rate = loansData['Interest.Rate'].map(g)\n",
    "loansData['Interest.Rate'] = clean_Interest_Rate\n",
    "\n",
    "j = lambda z: int(z.split('-')[0])\n",
    "loansData['fico_score'] = loansData['FICO.Range'].map(j)\n",
    "\n",
    "# Modify column names\n",
    "loansData.columns = [col.replace(\".\", \"_\").lower() for col in loansData.columns]"
   ]
  },
  {
   "cell_type": "code",
   "execution_count": 42,
   "metadata": {
    "collapsed": false
   },
   "outputs": [
    {
     "name": "stdout",
     "output_type": "stream",
     "text": [
      "<class 'pandas.core.frame.DataFrame'>\n",
      "Int64Index: 2500 entries, 81174 to 3116\n",
      "Data columns (total 15 columns):\n",
      "amount_requested                  2500 non-null int64\n",
      "amount_funded_by_investors        2500 non-null float64\n",
      "interest_rate                     2500 non-null float64\n",
      "loan_length                       2500 non-null object\n",
      "loan_purpose                      2500 non-null object\n",
      "debt_to_income_ratio              2500 non-null object\n",
      "state                             2500 non-null object\n",
      "home_ownership                    2500 non-null object\n",
      "monthly_income                    2499 non-null float64\n",
      "fico_range                        2500 non-null object\n",
      "open_credit_lines                 2498 non-null float64\n",
      "revolving_credit_balance          2498 non-null float64\n",
      "inquiries_in_the_last_6_months    2498 non-null float64\n",
      "employment_length                 2500 non-null object\n",
      "fico_score                        2500 non-null int64\n",
      "dtypes: float64(6), int64(2), object(7)\n",
      "memory usage: 312.5+ KB\n"
     ]
    }
   ],
   "source": [
    "loansData.info()"
   ]
  },
  {
   "cell_type": "markdown",
   "metadata": {},
   "source": [
    "**Step 2:** Saving the data to csv for future use:"
   ]
  },
  {
   "cell_type": "code",
   "execution_count": 43,
   "metadata": {
    "collapsed": true
   },
   "outputs": [],
   "source": [
    "loansData.to_csv('loansData_crossv.csv', header=True, index=False)"
   ]
  },
  {
   "cell_type": "code",
   "execution_count": 44,
   "metadata": {
    "collapsed": false
   },
   "outputs": [],
   "source": [
    "import pandas as pd\n",
    "import statsmodels.formula.api as smf\n",
    "from sklearn import linear_model\n",
    "from sklearn import cross_validation as cv\n",
    "from sklearn import metrics\n",
    "from sklearn import svm"
   ]
  },
  {
   "cell_type": "code",
   "execution_count": 45,
   "metadata": {
    "collapsed": true
   },
   "outputs": [],
   "source": [
    "loansData = pd.read_csv('loansData_crossv.csv')"
   ]
  },
  {
   "cell_type": "markdown",
   "metadata": {},
   "source": [
    "**Step 3:** Starting with statsmodels to create the first model:"
   ]
  },
  {
   "cell_type": "code",
   "execution_count": 46,
   "metadata": {
    "collapsed": false
   },
   "outputs": [
    {
     "data": {
      "text/html": [
       "<table class=\"simpletable\">\n",
       "<caption>OLS Regression Results</caption>\n",
       "<tr>\n",
       "  <th>Dep. Variable:</th>      <td>interest_rate</td>  <th>  R-squared:         </th>  <td>   0.657</td> \n",
       "</tr>\n",
       "<tr>\n",
       "  <th>Model:</th>                   <td>OLS</td>       <th>  Adj. R-squared:    </th>  <td>   0.656</td> \n",
       "</tr>\n",
       "<tr>\n",
       "  <th>Method:</th>             <td>Least Squares</td>  <th>  F-statistic:       </th>  <td>   2388.</td> \n",
       "</tr>\n",
       "<tr>\n",
       "  <th>Date:</th>             <td>Thu, 21 Jan 2016</td> <th>  Prob (F-statistic):</th>   <td>  0.00</td>  \n",
       "</tr>\n",
       "<tr>\n",
       "  <th>Time:</th>                 <td>17:42:47</td>     <th>  Log-Likelihood:    </th>  <td>  5727.6</td> \n",
       "</tr>\n",
       "<tr>\n",
       "  <th>No. Observations:</th>      <td>  2500</td>      <th>  AIC:               </th> <td>-1.145e+04</td>\n",
       "</tr>\n",
       "<tr>\n",
       "  <th>Df Residuals:</th>          <td>  2497</td>      <th>  BIC:               </th> <td>-1.143e+04</td>\n",
       "</tr>\n",
       "<tr>\n",
       "  <th>Df Model:</th>              <td>     2</td>      <th>                     </th>      <td> </td>    \n",
       "</tr>\n",
       "<tr>\n",
       "  <th>Covariance Type:</th>      <td>nonrobust</td>    <th>                     </th>      <td> </td>    \n",
       "</tr>\n",
       "</table>\n",
       "<table class=\"simpletable\">\n",
       "<tr>\n",
       "          <td></td>            <th>coef</th>     <th>std err</th>      <th>t</th>      <th>P>|t|</th> <th>[95.0% Conf. Int.]</th> \n",
       "</tr>\n",
       "<tr>\n",
       "  <th>Intercept</th>        <td>    0.7288</td> <td>    0.010</td> <td>   73.734</td> <td> 0.000</td> <td>    0.709     0.748</td>\n",
       "</tr>\n",
       "<tr>\n",
       "  <th>fico_score</th>       <td>   -0.0009</td> <td>  1.4e-05</td> <td>  -63.022</td> <td> 0.000</td> <td>   -0.001    -0.001</td>\n",
       "</tr>\n",
       "<tr>\n",
       "  <th>amount_requested</th> <td> 2.107e-06</td> <td>  6.3e-08</td> <td>   33.443</td> <td> 0.000</td> <td> 1.98e-06  2.23e-06</td>\n",
       "</tr>\n",
       "</table>\n",
       "<table class=\"simpletable\">\n",
       "<tr>\n",
       "  <th>Omnibus:</th>       <td>69.496</td> <th>  Durbin-Watson:     </th> <td>   1.979</td>\n",
       "</tr>\n",
       "<tr>\n",
       "  <th>Prob(Omnibus):</th> <td> 0.000</td> <th>  Jarque-Bera (JB):  </th> <td>  77.811</td>\n",
       "</tr>\n",
       "<tr>\n",
       "  <th>Skew:</th>          <td> 0.379</td> <th>  Prob(JB):          </th> <td>1.27e-17</td>\n",
       "</tr>\n",
       "<tr>\n",
       "  <th>Kurtosis:</th>      <td> 3.414</td> <th>  Cond. No.          </th> <td>2.96e+05</td>\n",
       "</tr>\n",
       "</table>"
      ],
      "text/plain": [
       "<class 'statsmodels.iolib.summary.Summary'>\n",
       "\"\"\"\n",
       "                            OLS Regression Results                            \n",
       "==============================================================================\n",
       "Dep. Variable:          interest_rate   R-squared:                       0.657\n",
       "Model:                            OLS   Adj. R-squared:                  0.656\n",
       "Method:                 Least Squares   F-statistic:                     2388.\n",
       "Date:                Thu, 21 Jan 2016   Prob (F-statistic):               0.00\n",
       "Time:                        17:42:47   Log-Likelihood:                 5727.6\n",
       "No. Observations:                2500   AIC:                        -1.145e+04\n",
       "Df Residuals:                    2497   BIC:                        -1.143e+04\n",
       "Df Model:                           2                                         \n",
       "Covariance Type:            nonrobust                                         \n",
       "====================================================================================\n",
       "                       coef    std err          t      P>|t|      [95.0% Conf. Int.]\n",
       "------------------------------------------------------------------------------------\n",
       "Intercept            0.7288      0.010     73.734      0.000         0.709     0.748\n",
       "fico_score          -0.0009    1.4e-05    -63.022      0.000        -0.001    -0.001\n",
       "amount_requested  2.107e-06    6.3e-08     33.443      0.000      1.98e-06  2.23e-06\n",
       "==============================================================================\n",
       "Omnibus:                       69.496   Durbin-Watson:                   1.979\n",
       "Prob(Omnibus):                  0.000   Jarque-Bera (JB):               77.811\n",
       "Skew:                           0.379   Prob(JB):                     1.27e-17\n",
       "Kurtosis:                       3.414   Cond. No.                     2.96e+05\n",
       "==============================================================================\n",
       "\n",
       "Warnings:\n",
       "[1] Standard Errors assume that the covariance matrix of the errors is correctly specified.\n",
       "[2] The condition number is large, 2.96e+05. This might indicate that there are\n",
       "strong multicollinearity or other numerical problems.\n",
       "\"\"\""
      ]
     },
     "execution_count": 46,
     "metadata": {},
     "output_type": "execute_result"
    }
   ],
   "source": [
    "model = smf.ols('interest_rate ~ fico_score + amount_requested', loansData).fit()\n",
    "model.summary()"
   ]
  },
  {
   "cell_type": "markdown",
   "metadata": {},
   "source": [
    "**Step 4:** Using scikit-learn to make the same model, checking to see if the coefficients match:"
   ]
  },
  {
   "cell_type": "code",
   "execution_count": 47,
   "metadata": {
    "collapsed": false
   },
   "outputs": [
    {
     "data": {
      "text/plain": [
       "array([  2.10747769e-06,  -8.84424222e-04])"
      ]
     },
     "execution_count": 47,
     "metadata": {},
     "output_type": "execute_result"
    }
   ],
   "source": [
    "X = loansData[['amount_requested','fico_score']]\n",
    "y = loansData['interest_rate']\n",
    "\n",
    "model_2 = linear_model.LinearRegression()\n",
    "model_2.fit(X, y)\n",
    "model_2.coef_"
   ]
  },
  {
   "cell_type": "markdown",
   "metadata": {},
   "source": [
    "**Step 5:** Splitting the data just once before moving on to KFold:"
   ]
  },
  {
   "cell_type": "code",
   "execution_count": 48,
   "metadata": {
    "collapsed": false
   },
   "outputs": [
    {
     "data": {
      "text/plain": [
       "LinearRegression(copy_X=True, fit_intercept=True, n_jobs=1, normalize=False)"
      ]
     },
     "execution_count": 48,
     "metadata": {},
     "output_type": "execute_result"
    }
   ],
   "source": [
    "X_train, X_test, y_train, y_test = cv.train_test_split(X, y, train_size=0.7, random_state=0)\n",
    "model_3 = linear_model.LinearRegression()\n",
    "model_3.fit(X_train, y_train)"
   ]
  },
  {
   "cell_type": "code",
   "execution_count": 49,
   "metadata": {
    "collapsed": false
   },
   "outputs": [
    {
     "data": {
      "text/plain": [
       "0.00058921001758735405"
      ]
     },
     "execution_count": 49,
     "metadata": {},
     "output_type": "execute_result"
    }
   ],
   "source": [
    "predicted = model_3.predict(X_test)\n",
    "expected = y_test\n",
    "\n",
    "metrics.mean_squared_error(expected, predicted)"
   ]
  },
  {
   "cell_type": "markdown",
   "metadata": {},
   "source": [
    "**Step 6:** Splitting the data via KFold:"
   ]
  },
  {
   "cell_type": "code",
   "execution_count": 52,
   "metadata": {
    "collapsed": false
   },
   "outputs": [
    {
     "data": {
      "text/plain": [
       "array([-0.00239206, -0.00206945, -0.00201442, -0.00199629, -0.00210307,\n",
       "       -0.00245783, -0.00213549, -0.00227609, -0.00223815, -0.00212754])"
      ]
     },
     "execution_count": 52,
     "metadata": {},
     "output_type": "execute_result"
    }
   ],
   "source": [
    "clf = svm.SVR()\n",
    "mse_scores = cv.cross_val_score(clf, X, y, cv=10, scoring='mean_squared_error')\n",
    "mse_scores"
   ]
  },
  {
   "cell_type": "code",
   "execution_count": 53,
   "metadata": {
    "collapsed": false
   },
   "outputs": [
    {
     "data": {
      "text/plain": [
       "0.0021810386520000006"
      ]
     },
     "execution_count": 53,
     "metadata": {},
     "output_type": "execute_result"
    }
   ],
   "source": [
    "abs(mse_scores.mean())"
   ]
  },
  {
   "cell_type": "markdown",
   "metadata": {},
   "source": [
    "**Preliminary conclusion:** \n",
    "The smaller the mean squared error, the closer the fit is to the data. Therefore, somehow I got a worse result from cross validation with KFold than just splitting the data once. Not sure what happened there!"
   ]
  }
 ],
 "metadata": {
  "kernelspec": {
   "display_name": "Python 2",
   "language": "python",
   "name": "python2"
  },
  "language_info": {
   "codemirror_mode": {
    "name": "ipython",
    "version": 2
   },
   "file_extension": ".py",
   "mimetype": "text/x-python",
   "name": "python",
   "nbconvert_exporter": "python",
   "pygments_lexer": "ipython2",
   "version": "2.7.10"
  }
 },
 "nbformat": 4,
 "nbformat_minor": 0
}
