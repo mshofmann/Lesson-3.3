{
 "cells": [
  {
   "cell_type": "code",
   "execution_count": 4,
   "metadata": {
    "collapsed": false
   },
   "outputs": [
    {
     "name": "stdout",
     "output_type": "stream",
     "text": [
      "For the Alcohol dataset, the mean, median, mode, range, variance, and standard deviation is 5.44363636364, 5.63, [ 4.02], 2.45, 0.636425454545, and 0.797762780873, respectively.\n",
      "\n",
      "For the Tobacco dataset, the mean, median, mode, range, variance, and standard deviation is 3.61818181818, 3.53, [ 2.71], 1.85, 0.348936363636, and 0.590708357514, respectively.\n"
     ]
    }
   ],
   "source": [
    "import pandas as pd\n",
    "from scipy import stats\n",
    "\n",
    "\n",
    "data = '''Region,Alcohol,Tobacco\n",
    "North,6.47,4.03\n",
    "Yorkshire,6.13,3.76\n",
    "Northeast,6.19,3.77\n",
    "East Midlands,4.89,3.34\n",
    "West Midlands,5.63,3.47\n",
    "East Anglia,4.52,2.92\n",
    "Southeast,5.89,3.20\n",
    "Southwest,4.79,2.71\n",
    "Wales,5.27,3.53\n",
    "Scotland,6.08,4.51\n",
    "Northern Ireland,4.02,4.56'''\n",
    "\n",
    "data = data.splitlines()\n",
    "data = [i.split(',') for i in data]\n",
    "\n",
    "column_names = data[0]\n",
    "data_rows = data[1::]\n",
    "df = pd.DataFrame(data_rows, columns = column_names)\n",
    "\n",
    "df['Alcohol'] = df['Alcohol'].astype(float)\n",
    "df['Tobacco'] = df['Tobacco'].astype(float)\n",
    "\n",
    "alcoholtupes = (df['Alcohol'].mean(), df['Alcohol'].median(),\n",
    "               (stats.mode(df['Alcohol']))[0], (max(df['Alcohol'])-min(df['Alcohol'])),\n",
    "               df['Alcohol'].var(), df['Alcohol'].std()\n",
    "               )\n",
    "\n",
    "tobaccotupes = (df['Tobacco'].mean(), df['Tobacco'].median(),\n",
    "               (stats.mode(df['Tobacco']))[0], (max(df['Tobacco'])-min(df['Tobacco'])),\n",
    "               df['Tobacco'].var(), df['Tobacco'].std()\n",
    "               )\n",
    "\n",
    "print ('For the Alcohol dataset, the mean, median, mode, \\\n",
    "range, variance, and standard deviation is {}, {}, {}, {}, \\\n",
    "{}, and {}, respectively.').format(*alcoholtupes)\n",
    "print\n",
    "print ('For the Tobacco dataset, the mean, median, mode, \\\n",
    "range, variance, and standard deviation is {}, {}, {}, {}, \\\n",
    "{}, and {}, respectively.').format(*tobaccotupes)\n"
   ]
  }
 ],
 "metadata": {
  "kernelspec": {
   "display_name": "Python 2",
   "language": "python",
   "name": "python2"
  },
  "language_info": {
   "codemirror_mode": {
    "name": "ipython",
    "version": 2
   },
   "file_extension": ".py",
   "mimetype": "text/x-python",
   "name": "python",
   "nbconvert_exporter": "python",
   "pygments_lexer": "ipython2",
   "version": "2.7.10"
  }
 },
 "nbformat": 4,
 "nbformat_minor": 0
}
