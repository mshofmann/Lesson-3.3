{
 "cells": [
  {
   "cell_type": "code",
   "execution_count": 15,
   "metadata": {
    "collapsed": false
   },
   "outputs": [],
   "source": [
    "'''This script demonstrates simulations of coin flipping'''\n",
    "import random\n",
    "\n",
    "# let's create a fair coin object that can be flipped:\n",
    "\n",
    "class Coin(object):\n",
    "    '''this is a simple fair coin, can be pseudorandomly flipped'''\n",
    "    sides = ('heads', 'tails')\n",
    "    last_result = None\n",
    "\n",
    "    def flip(self):\n",
    "        '''call coin.flip() to flip the coin and record it as the last result'''\n",
    "        self.last_result = result = random.choice(self.sides)\n",
    "        return result\n",
    "\n",
    "# let's create some auxilliary functions to manipulate the coins:\n",
    "\n",
    "def create_coins(number):\n",
    "    '''create a list of a number of coin objects'''\n",
    "    return [Coin() for _ in xrange(number)]\n",
    "\n",
    "def flip_coins(coins):\n",
    "    '''side effect function, modifies object in place, returns None'''\n",
    "    for coin in coins:\n",
    "        coin.flip()\n",
    "\n",
    "def count_heads(flipped_coins):\n",
    "    return sum(coin.last_result == 'heads' for coin in flipped_coins)\n",
    "\n",
    "def count_tails(flipped_coins):\n",
    "    return sum(coin.last_result == 'tails' for coin in flipped_coins)"
   ]
  },
  {
   "cell_type": "code",
   "execution_count": 16,
   "metadata": {
    "collapsed": false
   },
   "outputs": [
    {
     "data": {
      "text/plain": [
       "(array([  3.,   2.,   8.,  11.,  19.,  24.,  15.,   8.,   4.,   6.]),\n",
       " array([ 460. ,  467.1,  474.2,  481.3,  488.4,  495.5,  502.6,  509.7,\n",
       "         516.8,  523.9,  531. ]),\n",
       " <a list of 10 Patch objects>)"
      ]
     },
     "execution_count": 16,
     "metadata": {},
     "output_type": "execute_result"
    },
    {
     "data": {
      "image/png": "[encoded data removed]",
      "text/plain": [
       "<matplotlib.figure.Figure at 0x9b90e80>"
      ]
     },
     "metadata": {},
     "output_type": "display_data"
    }
   ],
   "source": [
    "%matplotlib inline\n",
    "from matplotlib import pyplot as plt\n",
    "\n",
    "result = []\n",
    "coins = create_coins(1000)\n",
    "for i in xrange(100):\n",
    "    flip_coins(coins)\n",
    "    result.append(count_heads(coins))\n",
    "plt.hist(result)"
   ]
  },
  {
   "cell_type": "markdown",
   "metadata": {},
   "source": [
    "Modified program to generate trials of a normal variable:"
   ]
  },
  {
   "cell_type": "code",
   "execution_count": 53,
   "metadata": {
    "collapsed": true
   },
   "outputs": [],
   "source": [
    "class normalv(object):\n",
    "    last_result = None\n",
    "\n",
    "    def run_it(self):\n",
    "        self.last_result = result = random.random()\n",
    "        return result\n",
    "\n",
    "def create_instances(number):\n",
    "    return [normalv() for _ in xrange(number)]\n",
    "\n",
    "def run_instances(instances):\n",
    "    for instance in instances:\n",
    "        instance.run_it()\n",
    "\n",
    "def count_instances(instances_ran):\n",
    "    return sum(i.last_result for i in instances_ran)\n",
    "\n",
    "def min_instances(instances_ran):\n",
    "    return min(i.last_result for i in instances_ran)\n",
    "\n",
    "def max_instances(instances_ran):\n",
    "    return max(i.last_result for i in instances_ran)"
   ]
  },
  {
   "cell_type": "code",
   "execution_count": 54,
   "metadata": {
    "collapsed": false
   },
   "outputs": [
    {
     "data": {
      "text/plain": [
       "(array([  2.,   1.,   7.,   9.,  18.,  19.,  18.,  21.,   3.,   2.]),\n",
       " array([ 472.26920452,  477.19407086,  482.1189372 ,  487.04380354,\n",
       "         491.96866988,  496.89353622,  501.81840256,  506.7432689 ,\n",
       "         511.66813524,  516.59300158,  521.51786792]),\n",
       " <a list of 10 Patch objects>)"
      ]
     },
     "execution_count": 54,
     "metadata": {},
     "output_type": "execute_result"
    },
    {
     "data": {
      "image/png": "[encoded data removed]",
      "text/plain": [
       "<matplotlib.figure.Figure at 0xae9f7b8>"
      ]
     },
     "metadata": {},
     "output_type": "display_data"
    }
   ],
   "source": [
    "result2 = []\n",
    "instances = create_instances(1000)\n",
    "for i in xrange(100):\n",
    "    run_instances(instances)\n",
    "    result2.append(count_instances(instances))\n",
    "plt.hist(result2)"
   ]
  },
  {
   "cell_type": "code",
   "execution_count": 55,
   "metadata": {
    "collapsed": false
   },
   "outputs": [
    {
     "data": {
      "text/plain": [
       "(array([ 47.,  23.,  16.,   7.,   2.,   1.,   0.,   2.,   1.,   1.]),\n",
       " array([  6.73261668e-06,   5.59897808e-04,   1.11306300e-03,\n",
       "          1.66622819e-03,   2.21939338e-03,   2.77255857e-03,\n",
       "          3.32572376e-03,   3.87888895e-03,   4.43205415e-03,\n",
       "          4.98521934e-03,   5.53838453e-03]),\n",
       " <a list of 10 Patch objects>)"
      ]
     },
     "execution_count": 55,
     "metadata": {},
     "output_type": "execute_result"
    },
    {
     "data": {
      "image/png": "[encoded data removed]",
      "text/plain": [
       "<matplotlib.figure.Figure at 0xb3c0cf8>"
      ]
     },
     "metadata": {},
     "output_type": "display_data"
    }
   ],
   "source": [
    "minresult = []\n",
    "for i in xrange(100):\n",
    "    run_instances(instances)\n",
    "    minresult.append(min_instances(instances))\n",
    "plt.hist(minresult)"
   ]
  },
  {
   "cell_type": "code",
   "execution_count": 56,
   "metadata": {
    "collapsed": false
   },
   "outputs": [
    {
     "data": {
      "text/plain": [
       "(array([  1.,   0.,   0.,   1.,   3.,   5.,   6.,  16.,  22.,  46.]),\n",
       " array([ 0.9945235 ,  0.99507025,  0.99561699,  0.99616373,  0.99671047,\n",
       "         0.99725722,  0.99780396,  0.9983507 ,  0.99889745,  0.99944419,\n",
       "         0.99999093]),\n",
       " <a list of 10 Patch objects>)"
      ]
     },
     "execution_count": 56,
     "metadata": {},
     "output_type": "execute_result"
    },
    {
     "data": {
      "image/png": "[encoded data removed]",
      "text/plain": [
       "<matplotlib.figure.Figure at 0x9d11fd0>"
      ]
     },
     "metadata": {},
     "output_type": "display_data"
    }
   ],
   "source": [
    "maxresult = []\n",
    "for i in xrange(100):\n",
    "    run_instances(instances)\n",
    "    maxresult.append(max_instances(instances))\n",
    "plt.hist(maxresult)"
   ]
  }
 ],
 "metadata": {
  "kernelspec": {
   "display_name": "Python 2",
   "language": "python",
   "name": "python2"
  },
  "language_info": {
   "codemirror_mode": {
    "name": "ipython",
    "version": 2
   },
   "file_extension": ".py",
   "mimetype": "text/x-python",
   "name": "python",
   "nbconvert_exporter": "python",
   "pygments_lexer": "ipython2",
   "version": "2.7.10"
  }
 },
 "nbformat": 4,
 "nbformat_minor": 0
}
