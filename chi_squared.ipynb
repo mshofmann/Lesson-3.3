{
 "cells": [
  {
   "cell_type": "code",
   "execution_count": 21,
   "metadata": {
    "collapsed": false
   },
   "outputs": [
    {
     "data": {
      "text/plain": [
       "Counter({2.0: 24,\n",
       "         3.0: 60,\n",
       "         4.0: 106,\n",
       "         5.0: 153,\n",
       "         6.0: 232,\n",
       "         7.0: 216,\n",
       "         8.0: 262,\n",
       "         9.0: 237,\n",
       "         10.0: 185,\n",
       "         11.0: 187,\n",
       "         12.0: 153,\n",
       "         13.0: 158,\n",
       "         14.0: 138,\n",
       "         15.0: 96,\n",
       "         16.0: 66,\n",
       "         17.0: 58,\n",
       "         18.0: 51,\n",
       "         19.0: 30,\n",
       "         20.0: 23,\n",
       "         21.0: 26,\n",
       "         22.0: 8,\n",
       "         23.0: 11,\n",
       "         24.0: 7,\n",
       "         25.0: 4,\n",
       "         26.0: 3,\n",
       "         31.0: 1,\n",
       "         34.0: 1,\n",
       "         36.0: 1,\n",
       "         38.0: 1})"
      ]
     },
     "execution_count": 21,
     "metadata": {},
     "output_type": "execute_result"
    }
   ],
   "source": [
    "%matplotlib inline\n",
    "from scipy import stats\n",
    "import collections\n",
    "import pandas as pd\n",
    "import matplotlib.pyplot as plt\n",
    "\n",
    "loansData = pd.read_csv('https://spark-public.s3.amazonaws.com/dataanalysis/loansData.csv')\n",
    "loansData.dropna(inplace=True)\n",
    "\n",
    "freq = collections.Counter(loansData['Open.CREDIT.Lines'])\n",
    "freq"
   ]
  },
  {
   "cell_type": "code",
   "execution_count": 12,
   "metadata": {
    "collapsed": false
   },
   "outputs": [
    {
     "name": "stdout",
     "output_type": "stream",
     "text": [
      "There are 29 unique numbers of open credit lines.\n"
     ]
    }
   ],
   "source": [
    "unique_lines = 'There are ' + str(len(freq)) + ' unique numbers of open credit lines.'\n",
    "print unique_lines"
   ]
  },
  {
   "cell_type": "code",
   "execution_count": 18,
   "metadata": {
    "collapsed": false
   },
   "outputs": [
    {
     "name": "stdout",
     "output_type": "stream",
     "text": [
      "The most frequent number of open credit lines is 8.0.\n"
     ]
    }
   ],
   "source": [
    "most_frequent_number = 'The most frequent number of open credit lines is ' + str(max(freq, key=freq.get)) + '.'\n",
    "print most_frequent_number"
   ]
  },
  {
   "cell_type": "code",
   "execution_count": 25,
   "metadata": {
    "collapsed": false
   },
   "outputs": [
    {
     "data": {
      "text/plain": [
       "<matplotlib.text.Text at 0x1776ba90>"
      ]
     },
     "execution_count": 25,
     "metadata": {},
     "output_type": "execute_result"
    },
    {
     "data": {
      "image/png": "[encoded data removed]",
      "text/plain": [
       "<matplotlib.figure.Figure at 0x16ee5f98>"
      ]
     },
     "metadata": {},
     "output_type": "display_data"
    }
   ],
   "source": [
    "plt.figure()\n",
    "plt.bar(freq.keys(), freq.values(), width=1)\n",
    "plt.title('Open Credit Lines')\n",
    "plt.xlabel('Lines of Credit')\n",
    "plt.ylabel('Count')"
   ]
  },
  {
   "cell_type": "code",
   "execution_count": 28,
   "metadata": {
    "collapsed": false
   },
   "outputs": [
    {
     "data": {
      "text/plain": [
       "2408.433146517214"
      ]
     },
     "execution_count": 28,
     "metadata": {},
     "output_type": "execute_result"
    }
   ],
   "source": [
    "chi, p = stats.chisquare(freq.values())\n",
    "chi"
   ]
  },
  {
   "cell_type": "code",
   "execution_count": 30,
   "metadata": {
    "collapsed": false
   },
   "outputs": [
    {
     "data": {
      "text/plain": [
       "0.0"
      ]
     },
     "execution_count": 30,
     "metadata": {},
     "output_type": "execute_result"
    }
   ],
   "source": [
    "p"
   ]
  },
  {
   "cell_type": "markdown",
   "metadata": {},
   "source": [
    "Question for Hugues - It's clear from the bar chart that the counts of lines of credit are not evenly distributed...how do the chi and p results tell me this?"
   ]
  }
 ],
 "metadata": {
  "kernelspec": {
   "display_name": "Python 2",
   "language": "python",
   "name": "python2"
  },
  "language_info": {
   "codemirror_mode": {
    "name": "ipython",
    "version": 2
   },
   "file_extension": ".py",
   "mimetype": "text/x-python",
   "name": "python",
   "nbconvert_exporter": "python",
   "pygments_lexer": "ipython2",
   "version": "2.7.10"
  }
 },
 "nbformat": 4,
 "nbformat_minor": 0
}
