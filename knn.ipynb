{
 "cells": [
  {
   "cell_type": "markdown",
   "metadata": {},
   "source": [
    "# k-Nearest Neighbors\n",
    "\n",
    "## Determining the class of a newcomer based on its k nearest neighbors."
   ]
  },
  {
   "cell_type": "code",
   "execution_count": 28,
   "metadata": {
    "collapsed": false
   },
   "outputs": [],
   "source": [
    "%matplotlib inline\n",
    "import matplotlib.pyplot as plt\n",
    "from sklearn.datasets import load_iris\n",
    "import pandas as pd\n",
    "import random"
   ]
  },
  {
   "cell_type": "markdown",
   "metadata": {},
   "source": [
    "**Step 1:** Load the data:"
   ]
  },
  {
   "cell_type": "code",
   "execution_count": 29,
   "metadata": {
    "collapsed": false
   },
   "outputs": [],
   "source": [
    "dataset = load_iris()\n",
    "names = ['sepal_length','sepal_width','petal_length','petal_width']\n",
    "df = pd.DataFrame(dataset.data, columns=names)\n",
    "df['class'] = dataset.target"
   ]
  },
  {
   "cell_type": "markdown",
   "metadata": {},
   "source": [
    "**Step 2:** Plot the data:"
   ]
  },
  {
   "cell_type": "code",
   "execution_count": 30,
   "metadata": {
    "collapsed": false
   },
   "outputs": [
    {
     "data": {
      "text/plain": [
       "<matplotlib.text.Text at 0x183115c0>"
      ]
     },
     "execution_count": 30,
     "metadata": {},
     "output_type": "execute_result"
    },
    {
     "data": {
      "image/png": "[encoded data removed]",
      "text/plain": [
       "<matplotlib.figure.Figure at 0x181650b8>"
      ]
     },
     "metadata": {},
     "output_type": "display_data"
    }
   ],
   "source": [
    "plt.figure(figsize=(8,8))\n",
    "plt.scatter(x=df['sepal_length'],y=df['sepal_width'], c=df['class'])\n",
    "plt.xlabel('Sepal Length')\n",
    "plt.ylabel('Sepal Width')"
   ]
  },
  {
   "cell_type": "markdown",
   "metadata": {},
   "source": [
    "**Step 3:** Create newcomer:"
   ]
  },
  {
   "cell_type": "code",
   "execution_count": 38,
   "metadata": {
    "collapsed": false
   },
   "outputs": [
    {
     "name": "stdout",
     "output_type": "stream",
     "text": [
      "5.6522668327 2.70002494991\n"
     ]
    }
   ],
   "source": [
    "x, y = random.uniform(4.5,8.0), random.uniform(2.0,4.5)\n",
    "print x, y"
   ]
  },
  {
   "cell_type": "markdown",
   "metadata": {},
   "source": [
    "**Step 4:** Manually create kNN algorithm with k=10 and predict the newcomer's class:"
   ]
  },
  {
   "cell_type": "code",
   "execution_count": 74,
   "metadata": {
    "collapsed": false
   },
   "outputs": [
    {
     "name": "stdout",
     "output_type": "stream",
     "text": [
      "The new random point most likely belongs to class 1, using KNN=10.\n"
     ]
    }
   ],
   "source": [
    "import math\n",
    "from collections import Counter\n",
    "\n",
    "\n",
    "distance=[]\n",
    "for a, b, c, d in df[['sepal_length','sepal_width','class']].itertuples():\n",
    "    dist = math.hypot(b-x, c-y)\n",
    "    distance.append((dist, d))\n",
    "distance.sort(key=lambda x: x[0])\n",
    "types = [i[1] for i in distance[:10]]\n",
    "lst = Counter(types).most_common()\n",
    "highest_count = max([i[1] for i in lst])\n",
    "result = [i[0] for i in lst if i[1]==highest_count][0]\n",
    "print 'The new random point most likely belongs to class {}, using KNN={}.'.format(result, 10)"
   ]
  },
  {
   "cell_type": "markdown",
   "metadata": {},
   "source": [
    "**Step 5:** Create a kNN function to predict the newcomer's class with different values for k:"
   ]
  },
  {
   "cell_type": "code",
   "execution_count": 81,
   "metadata": {
    "collapsed": false
   },
   "outputs": [
    {
     "name": "stdout",
     "output_type": "stream",
     "text": [
      "The new random point (5.6522668327, 2.70002494991) most likely belongs to class 1, using KNN=11.\n"
     ]
    }
   ],
   "source": [
    "def knn(k):\n",
    "    distance = []\n",
    "    for a, b, c, d in df[['sepal_length','sepal_width','class']].itertuples():\n",
    "        dist = math.hypot(b-x, c-y)\n",
    "        distance.append((dist, d))\n",
    "    distance.sort(key=lambda x: x[0])\n",
    "    types = [i[1] for i in distance[:k]]\n",
    "    lst = Counter(types).most_common()\n",
    "    highest_count = max([i[1] for i in lst])\n",
    "    result = [i[0] for i in lst if i[1]==highest_count][0]\n",
    "    print 'The new random point ({}, {}) most likely belongs to class {}, using KNN={}.'.format(x, y, result, k)\n",
    "\n",
    "knn(11)"
   ]
  }
 ],
 "metadata": {
  "kernelspec": {
   "display_name": "Python 2",
   "language": "python",
   "name": "python2"
  },
  "language_info": {
   "codemirror_mode": {
    "name": "ipython",
    "version": 2
   },
   "file_extension": ".py",
   "mimetype": "text/x-python",
   "name": "python",
   "nbconvert_exporter": "python",
   "pygments_lexer": "ipython2",
   "version": "2.7.10"
  }
 },
 "nbformat": 4,
 "nbformat_minor": 0
}
